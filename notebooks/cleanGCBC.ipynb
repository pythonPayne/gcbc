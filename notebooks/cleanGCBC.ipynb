{
 "cells": [
  {
   "cell_type": "code",
   "execution_count": null,
   "metadata": {},
   "outputs": [],
   "source": [
    "import pandas as pd\n",
    "import uuid\n",
    "import random\n",
    "import json"
   ]
  },
  {
   "attachments": {},
   "cell_type": "markdown",
   "metadata": {},
   "source": [
    "### Fix on Google Drive"
   ]
  },
  {
   "cell_type": "code",
   "execution_count": null,
   "metadata": {},
   "outputs": [],
   "source": [
    "# df = pd.read_pickle('../data/teaching.pkl')\n",
    "# sermons = df[df.category=='sermon'].rename(columns={'title':'title_raw'})\n",
    "# def get_title(s):\n",
    "#     try:\n",
    "#         return s[:s.rfind('(')].strip()\n",
    "#     except:\n",
    "#         return ''\n",
    "\n",
    "# def get_passage(s):\n",
    "#     try:\n",
    "#         return s[s.rfind('('):].strip().replace('(','').replace(')','')\n",
    "#     except:\n",
    "#         return ''\n",
    "                \n",
    "# sermons['title'] = sermons.title_raw.apply(lambda x: get_title(x))\n",
    "# sermons['passage'] = sermons.title_raw.apply(lambda x: get_passage(x))\n",
    "# sermons = sermons.sort_values('date_str').reset_index(drop=True)\n",
    "# sermons.to_excel('../data/temp_sermons_for_google_drive.xlsx')"
   ]
  },
  {
   "attachments": {},
   "cell_type": "markdown",
   "metadata": {},
   "source": [
    "### Prep for Sanity schema"
   ]
  },
  {
   "cell_type": "code",
   "execution_count": null,
   "metadata": {},
   "outputs": [],
   "source": [
    "def new_audio_link(audioLink):\n",
    "    try:\n",
    "        return audioLink.split('.org/')[-1].replace('/','___')\n",
    "    except:\n",
    "        return \"\""
   ]
  },
  {
   "cell_type": "markdown",
   "metadata": {},
   "source": []
  },
  {
   "cell_type": "code",
   "execution_count": null,
   "metadata": {},
   "outputs": [],
   "source": [
    "sermons_edited = pd.read_excel('../data/sermons.xlsx')\n"
   ]
  },
  {
   "cell_type": "code",
   "execution_count": null,
   "metadata": {},
   "outputs": [],
   "source": [
    "sermons_edited = sermons_edited.drop(columns=['Unnamed: 0',])\n",
    "sermons_edited['mp3File'] = sermons_edited.audioLink.apply(lambda x: new_audio_link(x))\n",
    "sermons_edited = sermons_edited.drop(columns=['date'])\n",
    "sermons_edited = sermons_edited.rename(columns={'date_str':'date', 'audioLink':'oldAudioLink'})\n",
    "sermons_edited = sermons_edited.reset_index().rename(columns={'index':'_id', 'series':'sermonSeries'})\n",
    "sermons_edited['_id'] = [str(uuid.uuid1(random.randint(0,100000))) for i in range(sermons_edited.shape[0])]\n",
    "sermons_edited['_type'] = 'sermons'\n",
    "sermons_edited = sermons_edited[['_id', '_type', 'date', 'speaker', 'book', 'passage', 'title', 'sermonSeries', 'mp3File', 'oldAudioLink']]\n",
    "sermons_edited = sermons_edited.fillna(\"\")"
   ]
  },
  {
   "cell_type": "code",
   "execution_count": null,
   "metadata": {},
   "outputs": [],
   "source": [
    "sermons_edited = sermons_edited[sermons_edited.date <= \"2022-10-31\"]\n",
    "\n",
    "sermons_edited['book'] = sermons_edited.book.apply(lambda x: 'Hebrews' if x == 'Hebrew' else x)\n",
    "\n",
    "\n"
   ]
  },
  {
   "cell_type": "code",
   "execution_count": null,
   "metadata": {},
   "outputs": [],
   "source": [
    "sermons_edited.head(2)"
   ]
  },
  {
   "cell_type": "code",
   "execution_count": null,
   "metadata": {},
   "outputs": [],
   "source": [
    "mp3List = sermons_edited[['_id','mp3File']].rename(columns={'_id':'assetId', 'mp3File':'mp3FileName'}).to_dict('records')\n",
    "with open('../cms/mp3List.js', 'w') as f:\n",
    "    f.write(f\"export const mp3s = {json.dumps(mp3List)}\")"
   ]
  },
  {
   "cell_type": "code",
   "execution_count": null,
   "metadata": {},
   "outputs": [],
   "source": [
    "sermons_edited = pd.read_excel('../data/sermons (2).xlsx')"
   ]
  },
  {
   "cell_type": "code",
   "execution_count": null,
   "metadata": {},
   "outputs": [],
   "source": [
    "sermons_edited['date'] = sermons_edited.date.apply(lambda x: str(x)[:10])\n",
    "sermons_edited = sermons_edited.drop(columns=['Unnamed: 0','oldAudioLink','newAudioLink'])\n",
    "sermons_edited = sermons_edited.reset_index().rename(columns={'index':'_id', 'series':'sermonSeries'})\n",
    "sermons_edited['_id'] = [str(uuid.uuid1(random.randint(0,100000))) for i in range(sermons_edited.shape[0])]\n",
    "sermons_edited['_type'] = 'sermons'\n",
    "sermons_edited = sermons_edited[['_id', '_type', 'date', 'speaker', 'book', 'passage', 'title', 'sermonSeries', 'audioLink']]\n",
    "sermons_edited = sermons_edited.fillna(\"\")\n",
    "sermons_edited = sermons_edited[sermons_edited.speaker.isin(['Todd Wilson','Stephen Hyde'])]\n",
    "sermons_edited = sermons_edited[sermons_edited.audioLink != \"\"]"
   ]
  },
  {
   "cell_type": "code",
   "execution_count": null,
   "metadata": {},
   "outputs": [],
   "source": [
    "sermons_edited.to_json(\"../cms/sermons.ndjson\",\n",
    "           orient=\"records\",\n",
    "           force_ascii=False,\n",
    "           lines=True)"
   ]
  },
  {
   "attachments": {},
   "cell_type": "markdown",
   "metadata": {},
   "source": [
    "### Sunday School for Sanity"
   ]
  },
  {
   "cell_type": "code",
   "execution_count": null,
   "metadata": {},
   "outputs": [],
   "source": [
    "# df = pd.read_pickle('../data/teaching_clean.pkl')\n",
    "# ss = df[df.category=='sunday school'].rename(columns={'title':'title_raw'})\n",
    "# def get_title(s):\n",
    "#     try:\n",
    "#         return s[:s.rfind('(')].strip()\n",
    "#     except:\n",
    "#         return ''\n",
    "\n",
    "# def get_passage(s):\n",
    "#     try:\n",
    "#         return s[s.rfind('('):].strip().replace('(','').replace(')','')\n",
    "#     except:\n",
    "#         return ''\n",
    "                \n",
    "# ss['title'] = ss.title_raw.apply(lambda x: get_title(x))\n",
    "# ss['passage'] = ss.title_raw.apply(lambda x: get_passage(x))\n",
    "# ss = ss.sort_values('date_str').reset_index(drop=True)\n",
    "# ss.to_excel('../data/temp_ss_for_google_drive.xlsx')"
   ]
  },
  {
   "cell_type": "code",
   "execution_count": null,
   "metadata": {},
   "outputs": [],
   "source": [
    "ss_edited = pd.read_excel('../data/temp_ss_for_google_drive_fixed.xlsx')"
   ]
  },
  {
   "cell_type": "code",
   "execution_count": null,
   "metadata": {},
   "outputs": [],
   "source": [
    "ss_edited.head(1)"
   ]
  },
  {
   "cell_type": "code",
   "execution_count": null,
   "metadata": {},
   "outputs": [],
   "source": [
    "ss_edited = ss_edited.drop(columns=['Unnamed: 0',])\n",
    "ss_edited['mp3File'] = ss_edited.audioLink.apply(lambda x: new_audio_link(x))\n",
    "ss_edited = ss_edited.drop(columns=['date'])\n",
    "ss_edited = ss_edited.rename(columns={'date_str':'date', 'audioLink':'oldAudioLink', 'handoutLink':'oldHandoutLink'})\n",
    "ss_edited = ss_edited.reset_index().rename(columns={'index':'_id', 'series':'sundaySchoolSeries'})\n",
    "ss_edited['_id'] = [str(uuid.uuid1(random.randint(0,100000))) for i in range(ss_edited.shape[0])]\n",
    "ss_edited['_type'] = 'sundayschool'\n",
    "ss_edited = ss_edited[['_id', '_type', 'date', 'speaker', 'book', 'passage', 'title', 'sundaySchoolSeries', 'mp3File', 'oldAudioLink', 'oldHandoutLink']]\n",
    "ss_edited = ss_edited.fillna(\"\")\n",
    "ss_edited['date'] = ss_edited.date.apply(lambda x: str(x)[:10])"
   ]
  },
  {
   "cell_type": "code",
   "execution_count": null,
   "metadata": {},
   "outputs": [],
   "source": []
  },
  {
   "cell_type": "code",
   "execution_count": null,
   "metadata": {},
   "outputs": [],
   "source": [
    "# ss_edited = ss_edited[ss_edited.date <= \"2022-10-31\"]\n",
    "\n",
    "ss_edited.drop(columns=['mp3File']).to_json(\"../cms/sundayschool.ndjson\",\n",
    "           orient=\"records\",\n",
    "           force_ascii=False,\n",
    "           lines=True)"
   ]
  },
  {
   "cell_type": "code",
   "execution_count": null,
   "metadata": {},
   "outputs": [],
   "source": []
  }
 ],
 "metadata": {
  "kernelspec": {
   "display_name": "Python 3.9.6 ('venv': venv)",
   "language": "python",
   "name": "python3"
  },
  "language_info": {
   "codemirror_mode": {
    "name": "ipython",
    "version": 3
   },
   "file_extension": ".py",
   "mimetype": "text/x-python",
   "name": "python",
   "nbconvert_exporter": "python",
   "pygments_lexer": "ipython3",
   "version": "3.9.6"
  },
  "orig_nbformat": 4,
  "vscode": {
   "interpreter": {
    "hash": "95f380b9e2c92a6964d1383707d3d6c101f4db7cc7fa04e6d96977e12139b588"
   }
  }
 },
 "nbformat": 4,
 "nbformat_minor": 2
}

{
 "cells": [
  {
   "cell_type": "code",
   "execution_count": 2,
   "metadata": {},
   "outputs": [],
   "source": [
    "import pandas as pd\n",
    "import uuid\n",
    "import random\n",
    "import json"
   ]
  },
  {
   "attachments": {},
   "cell_type": "markdown",
   "metadata": {},
   "source": [
    "### Fix on Google Drive"
   ]
  },
  {
   "cell_type": "code",
   "execution_count": null,
   "metadata": {},
   "outputs": [],
   "source": [
    "# df = pd.read_pickle('../data/teaching.pkl')\n",
    "# sermons = df[df.category=='sermon'].rename(columns={'title':'title_raw'})\n",
    "# def get_title(s):\n",
    "#     try:\n",
    "#         return s[:s.rfind('(')].strip()\n",
    "#     except:\n",
    "#         return ''\n",
    "\n",
    "# def get_passage(s):\n",
    "#     try:\n",
    "#         return s[s.rfind('('):].strip().replace('(','').replace(')','')\n",
    "#     except:\n",
    "#         return ''\n",
    "                \n",
    "# sermons['title'] = sermons.title_raw.apply(lambda x: get_title(x))\n",
    "# sermons['passage'] = sermons.title_raw.apply(lambda x: get_passage(x))\n",
    "# sermons = sermons.sort_values('date_str').reset_index(drop=True)\n",
    "# sermons.to_excel('../data/temp_sermons_for_google_drive.xlsx')"
   ]
  },
  {
   "attachments": {},
   "cell_type": "markdown",
   "metadata": {},
   "source": [
    "### Prep for Sanity schema"
   ]
  },
  {
   "cell_type": "code",
   "execution_count": 7,
   "metadata": {},
   "outputs": [],
   "source": [
    "def new_audio_link(audioLink):\n",
    "    try:\n",
    "        return audioLink.split('.org/')[-1].replace('/','___')\n",
    "    except:\n",
    "        return \"\""
   ]
  },
  {
   "cell_type": "markdown",
   "metadata": {},
   "source": []
  },
  {
   "cell_type": "code",
   "execution_count": null,
   "metadata": {},
   "outputs": [],
   "source": [
    "sermons_edited = pd.read_excel('../data/sermons.xlsx')\n"
   ]
  },
  {
   "cell_type": "code",
   "execution_count": null,
   "metadata": {},
   "outputs": [],
   "source": [
    "sermons_edited = sermons_edited.drop(columns=['Unnamed: 0',])\n",
    "sermons_edited['mp3File'] = sermons_edited.audioLink.apply(lambda x: new_audio_link(x))\n",
    "sermons_edited = sermons_edited.drop(columns=['date'])\n",
    "sermons_edited = sermons_edited.rename(columns={'date_str':'date', 'audioLink':'oldAudioLink'})\n",
    "sermons_edited = sermons_edited.reset_index().rename(columns={'index':'_id', 'series':'sermonSeries'})\n",
    "sermons_edited['_id'] = [str(uuid.uuid1(random.randint(0,100000))) for i in range(sermons_edited.shape[0])]\n",
    "sermons_edited['_type'] = 'sermons'\n",
    "sermons_edited = sermons_edited[['_id', '_type', 'date', 'speaker', 'book', 'passage', 'title', 'sermonSeries', 'mp3File', 'oldAudioLink']]\n",
    "sermons_edited = sermons_edited.fillna(\"\")"
   ]
  },
  {
   "cell_type": "code",
   "execution_count": null,
   "metadata": {},
   "outputs": [],
   "source": [
    "sermons_edited = sermons_edited[sermons_edited.date <= \"2022-10-31\"]\n",
    "\n",
    "sermons_edited['book'] = sermons_edited.book.apply(lambda x: 'Hebrews' if x == 'Hebrew' else x)\n",
    "\n",
    "sermons_edited.drop(columns=['mp3File']).to_json(\"../cms/sermons.ndjson\",\n",
    "           orient=\"records\",\n",
    "           force_ascii=False,\n",
    "           lines=True)\n"
   ]
  },
  {
   "cell_type": "code",
   "execution_count": null,
   "metadata": {},
   "outputs": [],
   "source": [
    "sermons_edited.head(2)"
   ]
  },
  {
   "cell_type": "code",
   "execution_count": null,
   "metadata": {},
   "outputs": [],
   "source": [
    "mp3List = sermons_edited[['_id','mp3File']].rename(columns={'_id':'assetId', 'mp3File':'mp3FileName'}).to_dict('records')\n",
    "with open('../cms/mp3List.js', 'w') as f:\n",
    "    f.write(f\"export const mp3s = {json.dumps(mp3List)}\")"
   ]
  },
  {
   "cell_type": "code",
   "execution_count": null,
   "metadata": {},
   "outputs": [],
   "source": []
  },
  {
   "attachments": {},
   "cell_type": "markdown",
   "metadata": {},
   "source": [
    "### Sunday School for Sanity"
   ]
  },
  {
   "cell_type": "code",
   "execution_count": null,
   "metadata": {},
   "outputs": [],
   "source": [
    "# df = pd.read_pickle('../data/teaching_clean.pkl')\n",
    "# ss = df[df.category=='sunday school'].rename(columns={'title':'title_raw'})\n",
    "# def get_title(s):\n",
    "#     try:\n",
    "#         return s[:s.rfind('(')].strip()\n",
    "#     except:\n",
    "#         return ''\n",
    "\n",
    "# def get_passage(s):\n",
    "#     try:\n",
    "#         return s[s.rfind('('):].strip().replace('(','').replace(')','')\n",
    "#     except:\n",
    "#         return ''\n",
    "                \n",
    "# ss['title'] = ss.title_raw.apply(lambda x: get_title(x))\n",
    "# ss['passage'] = ss.title_raw.apply(lambda x: get_passage(x))\n",
    "# ss = ss.sort_values('date_str').reset_index(drop=True)\n",
    "# ss.to_excel('../data/temp_ss_for_google_drive.xlsx')"
   ]
  },
  {
   "cell_type": "code",
   "execution_count": 8,
   "metadata": {},
   "outputs": [],
   "source": [
    "ss_edited = pd.read_excel('../data/temp_ss_for_google_drive_fixed.xlsx')"
   ]
  },
  {
   "cell_type": "code",
   "execution_count": 9,
   "metadata": {},
   "outputs": [],
   "source": [
    "ss_edited = ss_edited.drop(columns=['Unnamed: 0',])\n",
    "ss_edited['mp3File'] = ss_edited.audioLink.apply(lambda x: new_audio_link(x))\n",
    "ss_edited = ss_edited.drop(columns=['date'])\n",
    "ss_edited = ss_edited.rename(columns={'date_str':'date', 'audioLink':'oldAudioLink', 'handoutLink':'oldHandoutLink'})\n",
    "ss_edited = ss_edited.reset_index().rename(columns={'index':'_id', 'series':'sundaySchoolSeries'})\n",
    "ss_edited['_id'] = [str(uuid.uuid1(random.randint(0,100000))) for i in range(ss_edited.shape[0])]\n",
    "ss_edited['_type'] = 'sundayschool'\n",
    "ss_edited = ss_edited[['_id', '_type', 'date', 'speaker', 'book', 'passage', 'title', 'sundaySchoolSeries', 'mp3File', 'oldAudioLink', 'oldHandoutLink']]\n",
    "ss_edited = ss_edited.fillna(\"\")"
   ]
  },
  {
   "cell_type": "code",
   "execution_count": 10,
   "metadata": {},
   "outputs": [
    {
     "data": {
      "text/html": [
       "<div>\n",
       "<style scoped>\n",
       "    .dataframe tbody tr th:only-of-type {\n",
       "        vertical-align: middle;\n",
       "    }\n",
       "\n",
       "    .dataframe tbody tr th {\n",
       "        vertical-align: top;\n",
       "    }\n",
       "\n",
       "    .dataframe thead th {\n",
       "        text-align: right;\n",
       "    }\n",
       "</style>\n",
       "<table border=\"1\" class=\"dataframe\">\n",
       "  <thead>\n",
       "    <tr style=\"text-align: right;\">\n",
       "      <th></th>\n",
       "      <th>_id</th>\n",
       "      <th>_type</th>\n",
       "      <th>date</th>\n",
       "      <th>speaker</th>\n",
       "      <th>book</th>\n",
       "      <th>passage</th>\n",
       "      <th>title</th>\n",
       "      <th>sundaySchoolSeries</th>\n",
       "      <th>mp3File</th>\n",
       "      <th>oldAudioLink</th>\n",
       "      <th>oldHandoutLink</th>\n",
       "    </tr>\n",
       "  </thead>\n",
       "  <tbody>\n",
       "    <tr>\n",
       "      <th>0</th>\n",
       "      <td>b653beaa-99c2-11ed-a646-000000006ec3</td>\n",
       "      <td>sundayschool</td>\n",
       "      <td>2005-09-04</td>\n",
       "      <td>Michael Gaydosh</td>\n",
       "      <td>Daniel</td>\n",
       "      <td>1:1-21</td>\n",
       "      <td>Daniel 1</td>\n",
       "      <td>Daniel</td>\n",
       "      <td>media___Daniel___Daniel_1.mp3</td>\n",
       "      <td>https://www.gracecovenantbaptist.org/media/Dan...</td>\n",
       "      <td></td>\n",
       "    </tr>\n",
       "  </tbody>\n",
       "</table>\n",
       "</div>"
      ],
      "text/plain": [
       "                                    _id         _type        date  \\\n",
       "0  b653beaa-99c2-11ed-a646-000000006ec3  sundayschool  2005-09-04   \n",
       "\n",
       "           speaker    book passage     title sundaySchoolSeries  \\\n",
       "0  Michael Gaydosh  Daniel  1:1-21  Daniel 1             Daniel   \n",
       "\n",
       "                         mp3File  \\\n",
       "0  media___Daniel___Daniel_1.mp3   \n",
       "\n",
       "                                        oldAudioLink oldHandoutLink  \n",
       "0  https://www.gracecovenantbaptist.org/media/Dan...                 "
      ]
     },
     "execution_count": 10,
     "metadata": {},
     "output_type": "execute_result"
    }
   ],
   "source": [
    "ss_edited.head(1)"
   ]
  },
  {
   "cell_type": "code",
   "execution_count": 11,
   "metadata": {},
   "outputs": [
    {
     "data": {
      "text/plain": [
       "0                 All\n",
       "1        Darrell Cook\n",
       "2      David Wickiser\n",
       "3       Dustin Curtis\n",
       "4           Ed Wallen\n",
       "5     Jayson Faulkner\n",
       "6         Louie Davis\n",
       "7         Matt Carver\n",
       "8          Matt Posey\n",
       "9     Michael Gaydosh\n",
       "10     Richard Hughes\n",
       "11       Stephen Hyde\n",
       "12        Steve Cowan\n",
       "13        Todd Wilson\n",
       "14         Wade Potts\n",
       "Name: speaker, dtype: object"
      ]
     },
     "execution_count": 11,
     "metadata": {},
     "output_type": "execute_result"
    }
   ],
   "source": [
    "ss_edited.groupby('speaker').count().reset_index()['speaker']"
   ]
  },
  {
   "cell_type": "code",
   "execution_count": 12,
   "metadata": {},
   "outputs": [
    {
     "data": {
      "text/html": [
       "<div>\n",
       "<style scoped>\n",
       "    .dataframe tbody tr th:only-of-type {\n",
       "        vertical-align: middle;\n",
       "    }\n",
       "\n",
       "    .dataframe tbody tr th {\n",
       "        vertical-align: top;\n",
       "    }\n",
       "\n",
       "    .dataframe thead th {\n",
       "        text-align: right;\n",
       "    }\n",
       "</style>\n",
       "<table border=\"1\" class=\"dataframe\">\n",
       "  <thead>\n",
       "    <tr style=\"text-align: right;\">\n",
       "      <th></th>\n",
       "      <th>_id</th>\n",
       "      <th>_type</th>\n",
       "      <th>date</th>\n",
       "      <th>speaker</th>\n",
       "      <th>book</th>\n",
       "      <th>passage</th>\n",
       "      <th>title</th>\n",
       "      <th>sundaySchoolSeries</th>\n",
       "      <th>mp3File</th>\n",
       "      <th>oldAudioLink</th>\n",
       "      <th>oldHandoutLink</th>\n",
       "    </tr>\n",
       "  </thead>\n",
       "  <tbody>\n",
       "    <tr>\n",
       "      <th>79</th>\n",
       "      <td>b653c850-99c2-11ed-8ba8-0000000182b0</td>\n",
       "      <td>sundayschool</td>\n",
       "      <td>2007-04-22</td>\n",
       "      <td>Darrell Cook</td>\n",
       "      <td>Exodus</td>\n",
       "      <td>13:1-22</td>\n",
       "      <td>Sanctified to the Lord</td>\n",
       "      <td>Exodus</td>\n",
       "      <td>media___Exodus___Exodus_13.mp3</td>\n",
       "      <td>https://www.gracecovenantbaptist.org/media/Exo...</td>\n",
       "      <td></td>\n",
       "    </tr>\n",
       "    <tr>\n",
       "      <th>201</th>\n",
       "      <td>b653d688-99c2-11ed-aa8c-000000013454</td>\n",
       "      <td>sundayschool</td>\n",
       "      <td>2009-09-27</td>\n",
       "      <td>Darrell Cook</td>\n",
       "      <td>Deuteronomy</td>\n",
       "      <td>2:16-3:29</td>\n",
       "      <td>Review of God’s Dealings with Israel (Pt. 2)</td>\n",
       "      <td>Deuteronomy</td>\n",
       "      <td>media___Deuteronomy___Deuteronomy_3.mp3</td>\n",
       "      <td>https://www.gracecovenantbaptist.org/media/Deu...</td>\n",
       "      <td></td>\n",
       "    </tr>\n",
       "    <tr>\n",
       "      <th>209</th>\n",
       "      <td>b653d76e-99c2-11ed-87d2-000000001532</td>\n",
       "      <td>sundayschool</td>\n",
       "      <td>2009-11-22</td>\n",
       "      <td>Darrell Cook</td>\n",
       "      <td>Deuteronomy</td>\n",
       "      <td>10:1-22</td>\n",
       "      <td>Exposition of the 1st Commandment: What Does t...</td>\n",
       "      <td>Deuteronomy</td>\n",
       "      <td>media___Deuteronomy___Deuteronomy_11.mp3</td>\n",
       "      <td>https://www.gracecovenantbaptist.org/media/Deu...</td>\n",
       "      <td></td>\n",
       "    </tr>\n",
       "    <tr>\n",
       "      <th>213</th>\n",
       "      <td>b653d7e6-99c2-11ed-8841-000000009312</td>\n",
       "      <td>sundayschool</td>\n",
       "      <td>2009-12-20</td>\n",
       "      <td>Darrell Cook</td>\n",
       "      <td>Deuteronomy</td>\n",
       "      <td>14:22-16:17</td>\n",
       "      <td>Exposition of the 4th Commandment: The Tribute...</td>\n",
       "      <td>Deuteronomy</td>\n",
       "      <td>media___Deuteronomy___Deuteronomy_15.mp3</td>\n",
       "      <td>https://www.gracecovenantbaptist.org/media/Deu...</td>\n",
       "      <td></td>\n",
       "    </tr>\n",
       "    <tr>\n",
       "      <th>214</th>\n",
       "      <td>b653d804-99c2-11ed-9b53-00000000a49b</td>\n",
       "      <td>sundayschool</td>\n",
       "      <td>2009-12-27</td>\n",
       "      <td>Darrell Cook</td>\n",
       "      <td>Deuteronomy</td>\n",
       "      <td>16:18-18:22</td>\n",
       "      <td>Exposition of the 5th Commandment: The Leader ...</td>\n",
       "      <td>Deuteronomy</td>\n",
       "      <td>media___Deuteronomy___Deuteronomy_16.mp3</td>\n",
       "      <td>https://www.gracecovenantbaptist.org/media/Deu...</td>\n",
       "      <td></td>\n",
       "    </tr>\n",
       "  </tbody>\n",
       "</table>\n",
       "</div>"
      ],
      "text/plain": [
       "                                      _id         _type        date  \\\n",
       "79   b653c850-99c2-11ed-8ba8-0000000182b0  sundayschool  2007-04-22   \n",
       "201  b653d688-99c2-11ed-aa8c-000000013454  sundayschool  2009-09-27   \n",
       "209  b653d76e-99c2-11ed-87d2-000000001532  sundayschool  2009-11-22   \n",
       "213  b653d7e6-99c2-11ed-8841-000000009312  sundayschool  2009-12-20   \n",
       "214  b653d804-99c2-11ed-9b53-00000000a49b  sundayschool  2009-12-27   \n",
       "\n",
       "          speaker         book      passage  \\\n",
       "79   Darrell Cook       Exodus      13:1-22   \n",
       "201  Darrell Cook  Deuteronomy    2:16-3:29   \n",
       "209  Darrell Cook  Deuteronomy      10:1-22   \n",
       "213  Darrell Cook  Deuteronomy  14:22-16:17   \n",
       "214  Darrell Cook  Deuteronomy  16:18-18:22   \n",
       "\n",
       "                                                 title sundaySchoolSeries  \\\n",
       "79                              Sanctified to the Lord             Exodus   \n",
       "201       Review of God’s Dealings with Israel (Pt. 2)        Deuteronomy   \n",
       "209  Exposition of the 1st Commandment: What Does t...        Deuteronomy   \n",
       "213  Exposition of the 4th Commandment: The Tribute...        Deuteronomy   \n",
       "214  Exposition of the 5th Commandment: The Leader ...        Deuteronomy   \n",
       "\n",
       "                                      mp3File  \\\n",
       "79             media___Exodus___Exodus_13.mp3   \n",
       "201   media___Deuteronomy___Deuteronomy_3.mp3   \n",
       "209  media___Deuteronomy___Deuteronomy_11.mp3   \n",
       "213  media___Deuteronomy___Deuteronomy_15.mp3   \n",
       "214  media___Deuteronomy___Deuteronomy_16.mp3   \n",
       "\n",
       "                                          oldAudioLink oldHandoutLink  \n",
       "79   https://www.gracecovenantbaptist.org/media/Exo...                 \n",
       "201  https://www.gracecovenantbaptist.org/media/Deu...                 \n",
       "209  https://www.gracecovenantbaptist.org/media/Deu...                 \n",
       "213  https://www.gracecovenantbaptist.org/media/Deu...                 \n",
       "214  https://www.gracecovenantbaptist.org/media/Deu...                 "
      ]
     },
     "execution_count": 12,
     "metadata": {},
     "output_type": "execute_result"
    }
   ],
   "source": [
    "ss_edited[ss_edited.speaker=='Darrell Cook']"
   ]
  },
  {
   "cell_type": "code",
   "execution_count": null,
   "metadata": {},
   "outputs": [],
   "source": [
    "# ss_edited = ss_edited[ss_edited.date <= \"2022-10-31\"]\n",
    "\n",
    "ss_edited.drop(columns=['mp3File']).to_json(\"../cms/sundayschool.ndjson\",\n",
    "           orient=\"records\",\n",
    "           force_ascii=False,\n",
    "           lines=True)"
   ]
  },
  {
   "cell_type": "code",
   "execution_count": null,
   "metadata": {},
   "outputs": [],
   "source": []
  }
 ],
 "metadata": {
  "kernelspec": {
   "display_name": "Python 3.9.6 ('venv': venv)",
   "language": "python",
   "name": "python3"
  },
  "language_info": {
   "codemirror_mode": {
    "name": "ipython",
    "version": 3
   },
   "file_extension": ".py",
   "mimetype": "text/x-python",
   "name": "python",
   "nbconvert_exporter": "python",
   "pygments_lexer": "ipython3",
   "version": "3.9.6"
  },
  "orig_nbformat": 4,
  "vscode": {
   "interpreter": {
    "hash": "95f380b9e2c92a6964d1383707d3d6c101f4db7cc7fa04e6d96977e12139b588"
   }
  }
 },
 "nbformat": 4,
 "nbformat_minor": 2
}

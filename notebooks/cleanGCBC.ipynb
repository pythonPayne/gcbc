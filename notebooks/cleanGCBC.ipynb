{
 "cells": [
  {
   "cell_type": "code",
   "execution_count": 1,
   "metadata": {},
   "outputs": [],
   "source": [
    "import pandas as pd\n",
    "import uuid\n",
    "import random\n",
    "import json"
   ]
  },
  {
   "attachments": {},
   "cell_type": "markdown",
   "metadata": {},
   "source": [
    "### Fix on Google Drive"
   ]
  },
  {
   "cell_type": "code",
   "execution_count": null,
   "metadata": {},
   "outputs": [],
   "source": [
    "# df = pd.read_pickle('../data/teaching.pkl')\n",
    "# sermons = df[df.category=='sermon'].rename(columns={'title':'title_raw'})\n",
    "# def get_title(s):\n",
    "#     try:\n",
    "#         return s[:s.rfind('(')].strip()\n",
    "#     except:\n",
    "#         return ''\n",
    "\n",
    "# def get_passage(s):\n",
    "#     try:\n",
    "#         return s[s.rfind('('):].strip().replace('(','').replace(')','')\n",
    "#     except:\n",
    "#         return ''\n",
    "                \n",
    "# sermons['title'] = sermons.title_raw.apply(lambda x: get_title(x))\n",
    "# sermons['passage'] = sermons.title_raw.apply(lambda x: get_passage(x))\n",
    "# sermons = sermons.sort_values('date_str').reset_index(drop=True)\n",
    "# sermons.to_excel('../data/temp_sermons_for_google_drive.xlsx')"
   ]
  },
  {
   "attachments": {},
   "cell_type": "markdown",
   "metadata": {},
   "source": [
    "### Prep for Sanity schema"
   ]
  },
  {
   "cell_type": "code",
   "execution_count": 4,
   "metadata": {},
   "outputs": [],
   "source": [
    "def new_audio_link(audioLink):\n",
    "    try:\n",
    "        return audioLink.split('.org/')[-1].replace('/','___')\n",
    "    except:\n",
    "        return \"\""
   ]
  },
  {
   "cell_type": "markdown",
   "metadata": {},
   "source": []
  },
  {
   "cell_type": "code",
   "execution_count": null,
   "metadata": {},
   "outputs": [],
   "source": [
    "sermons_edited = pd.read_excel('../data/sermons.xlsx')\n"
   ]
  },
  {
   "cell_type": "code",
   "execution_count": null,
   "metadata": {},
   "outputs": [],
   "source": [
    "sermons_edited = sermons_edited.drop(columns=['Unnamed: 0',])\n",
    "sermons_edited['mp3File'] = sermons_edited.audioLink.apply(lambda x: new_audio_link(x))\n",
    "sermons_edited = sermons_edited.drop(columns=['date'])\n",
    "sermons_edited = sermons_edited.rename(columns={'date_str':'date', 'audioLink':'oldAudioLink'})\n",
    "sermons_edited = sermons_edited.reset_index().rename(columns={'index':'_id', 'series':'sermonSeries'})\n",
    "sermons_edited['_id'] = [str(uuid.uuid1(random.randint(0,100000))) for i in range(sermons_edited.shape[0])]\n",
    "sermons_edited['_type'] = 'sermons'\n",
    "sermons_edited = sermons_edited[['_id', '_type', 'date', 'speaker', 'book', 'passage', 'title', 'sermonSeries', 'mp3File', 'oldAudioLink']]\n",
    "sermons_edited = sermons_edited.fillna(\"\")"
   ]
  },
  {
   "cell_type": "code",
   "execution_count": null,
   "metadata": {},
   "outputs": [],
   "source": [
    "sermons_edited = sermons_edited[sermons_edited.date <= \"2022-10-31\"]\n",
    "\n",
    "sermons_edited['book'] = sermons_edited.book.apply(lambda x: 'Hebrews' if x == 'Hebrew' else x)\n",
    "\n",
    "\n"
   ]
  },
  {
   "cell_type": "code",
   "execution_count": null,
   "metadata": {},
   "outputs": [],
   "source": [
    "sermons_edited.head(2)"
   ]
  },
  {
   "cell_type": "code",
   "execution_count": null,
   "metadata": {},
   "outputs": [],
   "source": [
    "mp3List = sermons_edited[['_id','mp3File']].rename(columns={'_id':'assetId', 'mp3File':'mp3FileName'}).to_dict('records')\n",
    "with open('../cms/mp3List.js', 'w') as f:\n",
    "    f.write(f\"export const mp3s = {json.dumps(mp3List)}\")"
   ]
  },
  {
   "cell_type": "code",
   "execution_count": 28,
   "metadata": {},
   "outputs": [
    {
     "data": {
      "text/html": [
       "<div>\n",
       "<style scoped>\n",
       "    .dataframe tbody tr th:only-of-type {\n",
       "        vertical-align: middle;\n",
       "    }\n",
       "\n",
       "    .dataframe tbody tr th {\n",
       "        vertical-align: top;\n",
       "    }\n",
       "\n",
       "    .dataframe thead th {\n",
       "        text-align: right;\n",
       "    }\n",
       "</style>\n",
       "<table border=\"1\" class=\"dataframe\">\n",
       "  <thead>\n",
       "    <tr style=\"text-align: right;\">\n",
       "      <th></th>\n",
       "      <th>Unnamed: 0</th>\n",
       "      <th>date</th>\n",
       "      <th>speaker</th>\n",
       "      <th>book</th>\n",
       "      <th>passage</th>\n",
       "      <th>series</th>\n",
       "      <th>title</th>\n",
       "      <th>oldAudioLink</th>\n",
       "      <th>newAudioLink</th>\n",
       "      <th>audioLink</th>\n",
       "    </tr>\n",
       "  </thead>\n",
       "  <tbody>\n",
       "    <tr>\n",
       "      <th>0</th>\n",
       "      <td>0</td>\n",
       "      <td>2005-08-07</td>\n",
       "      <td>Todd Wilson</td>\n",
       "      <td>1 Corinthians</td>\n",
       "      <td>11:23-34</td>\n",
       "      <td>1 Corinthians</td>\n",
       "      <td>Faithful Partakers</td>\n",
       "      <td>https://www.gracecovenantbaptist.org/media/1_C...</td>\n",
       "      <td>https://www.sermonaudio.com/solo/gracecovenant...</td>\n",
       "      <td>https://www.sermonaudio.com/solo/gracecovenant...</td>\n",
       "    </tr>\n",
       "  </tbody>\n",
       "</table>\n",
       "</div>"
      ],
      "text/plain": [
       "   Unnamed: 0        date      speaker           book   passage  \\\n",
       "0           0  2005-08-07  Todd Wilson  1 Corinthians  11:23-34   \n",
       "\n",
       "          series               title  \\\n",
       "0  1 Corinthians  Faithful Partakers   \n",
       "\n",
       "                                        oldAudioLink  \\\n",
       "0  https://www.gracecovenantbaptist.org/media/1_C...   \n",
       "\n",
       "                                        newAudioLink  \\\n",
       "0  https://www.sermonaudio.com/solo/gracecovenant...   \n",
       "\n",
       "                                           audioLink  \n",
       "0  https://www.sermonaudio.com/solo/gracecovenant...  "
      ]
     },
     "execution_count": 28,
     "metadata": {},
     "output_type": "execute_result"
    }
   ],
   "source": [
    "sermons_edited = pd.read_excel('../data/sermons (2).xlsx')\n",
    "sermons_edited.head(1)\n"
   ]
  },
  {
   "cell_type": "code",
   "execution_count": 29,
   "metadata": {},
   "outputs": [],
   "source": [
    "sermons_edited = sermons_edited.drop(columns=['Unnamed: 0','oldAudioLink','newAudioLink'])\n",
    "sermons_edited = sermons_edited.reset_index().rename(columns={'index':'_id', 'series':'sermonSeries'})"
   ]
  },
  {
   "cell_type": "code",
   "execution_count": 30,
   "metadata": {},
   "outputs": [
    {
     "data": {
      "text/html": [
       "<div>\n",
       "<style scoped>\n",
       "    .dataframe tbody tr th:only-of-type {\n",
       "        vertical-align: middle;\n",
       "    }\n",
       "\n",
       "    .dataframe tbody tr th {\n",
       "        vertical-align: top;\n",
       "    }\n",
       "\n",
       "    .dataframe thead th {\n",
       "        text-align: right;\n",
       "    }\n",
       "</style>\n",
       "<table border=\"1\" class=\"dataframe\">\n",
       "  <thead>\n",
       "    <tr style=\"text-align: right;\">\n",
       "      <th></th>\n",
       "      <th>_id</th>\n",
       "      <th>date</th>\n",
       "      <th>speaker</th>\n",
       "      <th>book</th>\n",
       "      <th>passage</th>\n",
       "      <th>sermonSeries</th>\n",
       "      <th>title</th>\n",
       "      <th>audioLink</th>\n",
       "    </tr>\n",
       "  </thead>\n",
       "  <tbody>\n",
       "    <tr>\n",
       "      <th>0</th>\n",
       "      <td>0</td>\n",
       "      <td>2005-08-07</td>\n",
       "      <td>Todd Wilson</td>\n",
       "      <td>1 Corinthians</td>\n",
       "      <td>11:23-34</td>\n",
       "      <td>1 Corinthians</td>\n",
       "      <td>Faithful Partakers</td>\n",
       "      <td>https://www.sermonaudio.com/solo/gracecovenant...</td>\n",
       "    </tr>\n",
       "    <tr>\n",
       "      <th>1</th>\n",
       "      <td>1</td>\n",
       "      <td>2005-08-14</td>\n",
       "      <td>Todd Wilson</td>\n",
       "      <td>1 Corinthians</td>\n",
       "      <td>1:1-9</td>\n",
       "      <td>1 Corinthians</td>\n",
       "      <td>Paul and Corinth</td>\n",
       "      <td>https://www.sermonaudio.com/solo/gracecovenant...</td>\n",
       "    </tr>\n",
       "    <tr>\n",
       "      <th>2</th>\n",
       "      <td>2</td>\n",
       "      <td>2005-08-21</td>\n",
       "      <td>Todd Wilson</td>\n",
       "      <td>1 Corinthians</td>\n",
       "      <td>1:10-17</td>\n",
       "      <td>1 Corinthians</td>\n",
       "      <td>The Centrality of Preaching</td>\n",
       "      <td>https://www.sermonaudio.com/solo/gracecovenant...</td>\n",
       "    </tr>\n",
       "    <tr>\n",
       "      <th>3</th>\n",
       "      <td>3</td>\n",
       "      <td>2005-08-28</td>\n",
       "      <td>Todd Wilson</td>\n",
       "      <td>1 Corinthians</td>\n",
       "      <td>1:18-25</td>\n",
       "      <td>1 Corinthians</td>\n",
       "      <td>The Power and Wisdom of God</td>\n",
       "      <td>https://www.sermonaudio.com/solo/gracecovenant...</td>\n",
       "    </tr>\n",
       "    <tr>\n",
       "      <th>4</th>\n",
       "      <td>4</td>\n",
       "      <td>2005-09-04</td>\n",
       "      <td>Todd Wilson</td>\n",
       "      <td>1 Corinthians</td>\n",
       "      <td>1:26-31</td>\n",
       "      <td>1 Corinthians</td>\n",
       "      <td>Consider Your Calling</td>\n",
       "      <td>https://www.sermonaudio.com/solo/gracecovenant...</td>\n",
       "    </tr>\n",
       "  </tbody>\n",
       "</table>\n",
       "</div>"
      ],
      "text/plain": [
       "   _id        date      speaker           book   passage   sermonSeries  \\\n",
       "0    0  2005-08-07  Todd Wilson  1 Corinthians  11:23-34  1 Corinthians   \n",
       "1    1  2005-08-14  Todd Wilson  1 Corinthians     1:1-9  1 Corinthians   \n",
       "2    2  2005-08-21  Todd Wilson  1 Corinthians   1:10-17  1 Corinthians   \n",
       "3    3  2005-08-28  Todd Wilson  1 Corinthians   1:18-25  1 Corinthians   \n",
       "4    4  2005-09-04  Todd Wilson  1 Corinthians   1:26-31  1 Corinthians   \n",
       "\n",
       "                         title  \\\n",
       "0           Faithful Partakers   \n",
       "1             Paul and Corinth   \n",
       "2  The Centrality of Preaching   \n",
       "3  The Power and Wisdom of God   \n",
       "4        Consider Your Calling   \n",
       "\n",
       "                                           audioLink  \n",
       "0  https://www.sermonaudio.com/solo/gracecovenant...  \n",
       "1  https://www.sermonaudio.com/solo/gracecovenant...  \n",
       "2  https://www.sermonaudio.com/solo/gracecovenant...  \n",
       "3  https://www.sermonaudio.com/solo/gracecovenant...  \n",
       "4  https://www.sermonaudio.com/solo/gracecovenant...  "
      ]
     },
     "execution_count": 30,
     "metadata": {},
     "output_type": "execute_result"
    }
   ],
   "source": [
    "sermons_edited.head()"
   ]
  },
  {
   "cell_type": "code",
   "execution_count": 31,
   "metadata": {},
   "outputs": [],
   "source": [
    "sermons_edited['_id'] = [str(uuid.uuid1(random.randint(0,100000))) for i in range(sermons_edited.shape[0])]\n",
    "sermons_edited['_type'] = 'sermons'\n",
    "sermons_edited = sermons_edited[['_id', '_type', 'date', 'speaker', 'book', 'passage', 'title', 'sermonSeries', 'audioLink']]\n",
    "sermons_edited = sermons_edited.fillna(\"\")\n",
    "sermons_edited = sermons_edited[sermons_edited.speaker.isin(['Todd Wilson','Stephen Hyde'])]\n",
    "sermons_edited = sermons_edited[sermons_edited.audioLink != \"\"]"
   ]
  },
  {
   "cell_type": "code",
   "execution_count": 32,
   "metadata": {},
   "outputs": [
    {
     "data": {
      "text/html": [
       "<div>\n",
       "<style scoped>\n",
       "    .dataframe tbody tr th:only-of-type {\n",
       "        vertical-align: middle;\n",
       "    }\n",
       "\n",
       "    .dataframe tbody tr th {\n",
       "        vertical-align: top;\n",
       "    }\n",
       "\n",
       "    .dataframe thead th {\n",
       "        text-align: right;\n",
       "    }\n",
       "</style>\n",
       "<table border=\"1\" class=\"dataframe\">\n",
       "  <thead>\n",
       "    <tr style=\"text-align: right;\">\n",
       "      <th></th>\n",
       "      <th>_id</th>\n",
       "      <th>_type</th>\n",
       "      <th>date</th>\n",
       "      <th>book</th>\n",
       "      <th>passage</th>\n",
       "      <th>title</th>\n",
       "      <th>sermonSeries</th>\n",
       "      <th>audioLink</th>\n",
       "    </tr>\n",
       "    <tr>\n",
       "      <th>speaker</th>\n",
       "      <th></th>\n",
       "      <th></th>\n",
       "      <th></th>\n",
       "      <th></th>\n",
       "      <th></th>\n",
       "      <th></th>\n",
       "      <th></th>\n",
       "      <th></th>\n",
       "    </tr>\n",
       "  </thead>\n",
       "  <tbody>\n",
       "    <tr>\n",
       "      <th>Stephen Hyde</th>\n",
       "      <td>24</td>\n",
       "      <td>24</td>\n",
       "      <td>24</td>\n",
       "      <td>24</td>\n",
       "      <td>24</td>\n",
       "      <td>24</td>\n",
       "      <td>24</td>\n",
       "      <td>24</td>\n",
       "    </tr>\n",
       "    <tr>\n",
       "      <th>Todd Wilson</th>\n",
       "      <td>647</td>\n",
       "      <td>647</td>\n",
       "      <td>647</td>\n",
       "      <td>647</td>\n",
       "      <td>647</td>\n",
       "      <td>647</td>\n",
       "      <td>647</td>\n",
       "      <td>647</td>\n",
       "    </tr>\n",
       "  </tbody>\n",
       "</table>\n",
       "</div>"
      ],
      "text/plain": [
       "              _id  _type  date  book  passage  title  sermonSeries  audioLink\n",
       "speaker                                                                      \n",
       "Stephen Hyde   24     24    24    24       24     24            24         24\n",
       "Todd Wilson   647    647   647   647      647    647           647        647"
      ]
     },
     "execution_count": 32,
     "metadata": {},
     "output_type": "execute_result"
    }
   ],
   "source": [
    "sermons_edited.groupby('speaker').count()\n"
   ]
  },
  {
   "cell_type": "code",
   "execution_count": 33,
   "metadata": {},
   "outputs": [],
   "source": [
    "sermons_edited.to_json(\"../cms/sermons.ndjson\",\n",
    "           orient=\"records\",\n",
    "           force_ascii=False,\n",
    "           lines=True)"
   ]
  },
  {
   "cell_type": "code",
   "execution_count": 34,
   "metadata": {},
   "outputs": [
    {
     "data": {
      "text/html": [
       "<div>\n",
       "<style scoped>\n",
       "    .dataframe tbody tr th:only-of-type {\n",
       "        vertical-align: middle;\n",
       "    }\n",
       "\n",
       "    .dataframe tbody tr th {\n",
       "        vertical-align: top;\n",
       "    }\n",
       "\n",
       "    .dataframe thead th {\n",
       "        text-align: right;\n",
       "    }\n",
       "</style>\n",
       "<table border=\"1\" class=\"dataframe\">\n",
       "  <thead>\n",
       "    <tr style=\"text-align: right;\">\n",
       "      <th></th>\n",
       "      <th>_id</th>\n",
       "      <th>_type</th>\n",
       "      <th>date</th>\n",
       "      <th>speaker</th>\n",
       "      <th>book</th>\n",
       "      <th>passage</th>\n",
       "      <th>title</th>\n",
       "      <th>sermonSeries</th>\n",
       "      <th>audioLink</th>\n",
       "    </tr>\n",
       "  </thead>\n",
       "  <tbody>\n",
       "    <tr>\n",
       "      <th>0</th>\n",
       "      <td>53a79138-db7f-11ed-a01e-00000000fc33</td>\n",
       "      <td>sermons</td>\n",
       "      <td>2005-08-07</td>\n",
       "      <td>Todd Wilson</td>\n",
       "      <td>1 Corinthians</td>\n",
       "      <td>11:23-34</td>\n",
       "      <td>Faithful Partakers</td>\n",
       "      <td>1 Corinthians</td>\n",
       "      <td>https://www.sermonaudio.com/solo/gracecovenant...</td>\n",
       "    </tr>\n",
       "    <tr>\n",
       "      <th>1</th>\n",
       "      <td>53a791d8-db7f-11ed-b29d-00000000a3e5</td>\n",
       "      <td>sermons</td>\n",
       "      <td>2005-08-14</td>\n",
       "      <td>Todd Wilson</td>\n",
       "      <td>1 Corinthians</td>\n",
       "      <td>1:1-9</td>\n",
       "      <td>Paul and Corinth</td>\n",
       "      <td>1 Corinthians</td>\n",
       "      <td>https://www.sermonaudio.com/solo/gracecovenant...</td>\n",
       "    </tr>\n",
       "    <tr>\n",
       "      <th>2</th>\n",
       "      <td>53a79214-db7f-11ed-b6df-000000012b5c</td>\n",
       "      <td>sermons</td>\n",
       "      <td>2005-08-21</td>\n",
       "      <td>Todd Wilson</td>\n",
       "      <td>1 Corinthians</td>\n",
       "      <td>1:10-17</td>\n",
       "      <td>The Centrality of Preaching</td>\n",
       "      <td>1 Corinthians</td>\n",
       "      <td>https://www.sermonaudio.com/solo/gracecovenant...</td>\n",
       "    </tr>\n",
       "    <tr>\n",
       "      <th>3</th>\n",
       "      <td>53a7923c-db7f-11ed-b039-000000000209</td>\n",
       "      <td>sermons</td>\n",
       "      <td>2005-08-28</td>\n",
       "      <td>Todd Wilson</td>\n",
       "      <td>1 Corinthians</td>\n",
       "      <td>1:18-25</td>\n",
       "      <td>The Power and Wisdom of God</td>\n",
       "      <td>1 Corinthians</td>\n",
       "      <td>https://www.sermonaudio.com/solo/gracecovenant...</td>\n",
       "    </tr>\n",
       "    <tr>\n",
       "      <th>4</th>\n",
       "      <td>53a7926e-db7f-11ed-9360-000000016941</td>\n",
       "      <td>sermons</td>\n",
       "      <td>2005-09-04</td>\n",
       "      <td>Todd Wilson</td>\n",
       "      <td>1 Corinthians</td>\n",
       "      <td>1:26-31</td>\n",
       "      <td>Consider Your Calling</td>\n",
       "      <td>1 Corinthians</td>\n",
       "      <td>https://www.sermonaudio.com/solo/gracecovenant...</td>\n",
       "    </tr>\n",
       "  </tbody>\n",
       "</table>\n",
       "</div>"
      ],
      "text/plain": [
       "                                    _id    _type        date      speaker  \\\n",
       "0  53a79138-db7f-11ed-a01e-00000000fc33  sermons  2005-08-07  Todd Wilson   \n",
       "1  53a791d8-db7f-11ed-b29d-00000000a3e5  sermons  2005-08-14  Todd Wilson   \n",
       "2  53a79214-db7f-11ed-b6df-000000012b5c  sermons  2005-08-21  Todd Wilson   \n",
       "3  53a7923c-db7f-11ed-b039-000000000209  sermons  2005-08-28  Todd Wilson   \n",
       "4  53a7926e-db7f-11ed-9360-000000016941  sermons  2005-09-04  Todd Wilson   \n",
       "\n",
       "            book   passage                        title   sermonSeries  \\\n",
       "0  1 Corinthians  11:23-34           Faithful Partakers  1 Corinthians   \n",
       "1  1 Corinthians     1:1-9             Paul and Corinth  1 Corinthians   \n",
       "2  1 Corinthians   1:10-17  The Centrality of Preaching  1 Corinthians   \n",
       "3  1 Corinthians   1:18-25  The Power and Wisdom of God  1 Corinthians   \n",
       "4  1 Corinthians   1:26-31        Consider Your Calling  1 Corinthians   \n",
       "\n",
       "                                           audioLink  \n",
       "0  https://www.sermonaudio.com/solo/gracecovenant...  \n",
       "1  https://www.sermonaudio.com/solo/gracecovenant...  \n",
       "2  https://www.sermonaudio.com/solo/gracecovenant...  \n",
       "3  https://www.sermonaudio.com/solo/gracecovenant...  \n",
       "4  https://www.sermonaudio.com/solo/gracecovenant...  "
      ]
     },
     "execution_count": 34,
     "metadata": {},
     "output_type": "execute_result"
    }
   ],
   "source": [
    "sermons_edited.head()"
   ]
  },
  {
   "attachments": {},
   "cell_type": "markdown",
   "metadata": {},
   "source": [
    "### Sunday School for Sanity"
   ]
  },
  {
   "cell_type": "code",
   "execution_count": null,
   "metadata": {},
   "outputs": [],
   "source": [
    "# df = pd.read_pickle('../data/teaching_clean.pkl')\n",
    "# ss = df[df.category=='sunday school'].rename(columns={'title':'title_raw'})\n",
    "# def get_title(s):\n",
    "#     try:\n",
    "#         return s[:s.rfind('(')].strip()\n",
    "#     except:\n",
    "#         return ''\n",
    "\n",
    "# def get_passage(s):\n",
    "#     try:\n",
    "#         return s[s.rfind('('):].strip().replace('(','').replace(')','')\n",
    "#     except:\n",
    "#         return ''\n",
    "                \n",
    "# ss['title'] = ss.title_raw.apply(lambda x: get_title(x))\n",
    "# ss['passage'] = ss.title_raw.apply(lambda x: get_passage(x))\n",
    "# ss = ss.sort_values('date_str').reset_index(drop=True)\n",
    "# ss.to_excel('../data/temp_ss_for_google_drive.xlsx')"
   ]
  },
  {
   "cell_type": "code",
   "execution_count": 15,
   "metadata": {},
   "outputs": [],
   "source": [
    "ss_edited = pd.read_excel('../data/temp_ss_for_google_drive_fixed.xlsx')"
   ]
  },
  {
   "cell_type": "code",
   "execution_count": 10,
   "metadata": {},
   "outputs": [
    {
     "data": {
      "text/html": [
       "<div>\n",
       "<style scoped>\n",
       "    .dataframe tbody tr th:only-of-type {\n",
       "        vertical-align: middle;\n",
       "    }\n",
       "\n",
       "    .dataframe tbody tr th {\n",
       "        vertical-align: top;\n",
       "    }\n",
       "\n",
       "    .dataframe thead th {\n",
       "        text-align: right;\n",
       "    }\n",
       "</style>\n",
       "<table border=\"1\" class=\"dataframe\">\n",
       "  <thead>\n",
       "    <tr style=\"text-align: right;\">\n",
       "      <th></th>\n",
       "      <th>Unnamed: 0</th>\n",
       "      <th>date</th>\n",
       "      <th>speaker</th>\n",
       "      <th>title_raw</th>\n",
       "      <th>audioLink</th>\n",
       "      <th>handoutLink</th>\n",
       "      <th>testament</th>\n",
       "      <th>year</th>\n",
       "      <th>category</th>\n",
       "      <th>title</th>\n",
       "      <th>topical</th>\n",
       "      <th>book</th>\n",
       "      <th>passage</th>\n",
       "      <th>date_str</th>\n",
       "      <th>series</th>\n",
       "    </tr>\n",
       "  </thead>\n",
       "  <tbody>\n",
       "    <tr>\n",
       "      <th>0</th>\n",
       "      <td>0</td>\n",
       "      <td>09/04/2005</td>\n",
       "      <td>Michael Gaydosh</td>\n",
       "      <td>Daniel 1</td>\n",
       "      <td>https://www.gracecovenantbaptist.org/media/Dan...</td>\n",
       "      <td>NaN</td>\n",
       "      <td>OT</td>\n",
       "      <td>2005</td>\n",
       "      <td>sunday school</td>\n",
       "      <td>Daniel 1</td>\n",
       "      <td>0</td>\n",
       "      <td>Daniel</td>\n",
       "      <td>1:1-21</td>\n",
       "      <td>2005-09-04</td>\n",
       "      <td>NaN</td>\n",
       "    </tr>\n",
       "  </tbody>\n",
       "</table>\n",
       "</div>"
      ],
      "text/plain": [
       "   Unnamed: 0        date          speaker  title_raw  \\\n",
       "0           0  09/04/2005  Michael Gaydosh  Daniel 1    \n",
       "\n",
       "                                           audioLink handoutLink testament  \\\n",
       "0  https://www.gracecovenantbaptist.org/media/Dan...         NaN        OT   \n",
       "\n",
       "   year       category     title  topical    book passage    date_str series  \n",
       "0  2005  sunday school  Daniel 1        0  Daniel  1:1-21  2005-09-04    NaN  "
      ]
     },
     "execution_count": 10,
     "metadata": {},
     "output_type": "execute_result"
    }
   ],
   "source": [
    "ss_edited.head(1)"
   ]
  },
  {
   "cell_type": "code",
   "execution_count": 16,
   "metadata": {},
   "outputs": [],
   "source": [
    "ss_edited = ss_edited.drop(columns=['Unnamed: 0',])\n",
    "ss_edited['mp3File'] = ss_edited.audioLink.apply(lambda x: new_audio_link(x))\n",
    "ss_edited = ss_edited.drop(columns=['date'])\n",
    "ss_edited = ss_edited.rename(columns={'date_str':'date', 'audioLink':'oldAudioLink', 'handoutLink':'oldHandoutLink'})\n",
    "ss_edited = ss_edited.reset_index().rename(columns={'index':'_id', 'series':'sundaySchoolSeries'})\n",
    "ss_edited['_id'] = [str(uuid.uuid1(random.randint(0,100000))) for i in range(ss_edited.shape[0])]\n",
    "ss_edited['_type'] = 'sundayschool'\n",
    "ss_edited = ss_edited[['_id', '_type', 'date', 'speaker', 'book', 'passage', 'title', 'sundaySchoolSeries', 'mp3File', 'oldAudioLink', 'oldHandoutLink']]\n",
    "ss_edited = ss_edited.fillna(\"\")\n",
    "ss_edited['date'] = ss_edited.date.apply(lambda x: str(x)[:10])"
   ]
  },
  {
   "cell_type": "code",
   "execution_count": 13,
   "metadata": {},
   "outputs": [],
   "source": []
  },
  {
   "cell_type": "code",
   "execution_count": 17,
   "metadata": {},
   "outputs": [],
   "source": [
    "# ss_edited = ss_edited[ss_edited.date <= \"2022-10-31\"]\n",
    "\n",
    "ss_edited.drop(columns=['mp3File']).to_json(\"../cms/sundayschool.ndjson\",\n",
    "           orient=\"records\",\n",
    "           force_ascii=False,\n",
    "           lines=True)"
   ]
  },
  {
   "cell_type": "code",
   "execution_count": null,
   "metadata": {},
   "outputs": [],
   "source": []
  }
 ],
 "metadata": {
  "kernelspec": {
   "display_name": "Python 3.9.6 ('venv': venv)",
   "language": "python",
   "name": "python3"
  },
  "language_info": {
   "codemirror_mode": {
    "name": "ipython",
    "version": 3
   },
   "file_extension": ".py",
   "mimetype": "text/x-python",
   "name": "python",
   "nbconvert_exporter": "python",
   "pygments_lexer": "ipython3",
   "version": "3.9.6"
  },
  "orig_nbformat": 4,
  "vscode": {
   "interpreter": {
    "hash": "95f380b9e2c92a6964d1383707d3d6c101f4db7cc7fa04e6d96977e12139b588"
   }
  }
 },
 "nbformat": 4,
 "nbformat_minor": 2
}

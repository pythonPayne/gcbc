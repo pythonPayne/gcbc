{
 "cells": [
  {
   "cell_type": "code",
   "execution_count": 1,
   "metadata": {},
   "outputs": [],
   "source": [
    "import pandas as pd\n",
    "import uuid\n",
    "import random\n",
    "import json"
   ]
  },
  {
   "attachments": {},
   "cell_type": "markdown",
   "metadata": {},
   "source": [
    "### Fix on Google Drive"
   ]
  },
  {
   "cell_type": "code",
   "execution_count": 12,
   "metadata": {},
   "outputs": [],
   "source": [
    "# df = pd.read_pickle('../data/teaching.pkl')\n",
    "# sermons = df[df.category=='sermon'].rename(columns={'title':'title_raw'})\n",
    "# def get_title(s):\n",
    "#     try:\n",
    "#         return s[:s.rfind('(')].strip()\n",
    "#     except:\n",
    "#         return ''\n",
    "\n",
    "# def get_passage(s):\n",
    "#     try:\n",
    "#         return s[s.rfind('('):].strip().replace('(','').replace(')','')\n",
    "#     except:\n",
    "#         return ''\n",
    "                \n",
    "# sermons['title'] = sermons.title_raw.apply(lambda x: get_title(x))\n",
    "# sermons['passage'] = sermons.title_raw.apply(lambda x: get_passage(x))\n",
    "# sermons = sermons.sort_values('date_str').reset_index(drop=True)\n",
    "# sermons.to_excel('../data/temp_sermons_for_google_drive.xlsx')"
   ]
  },
  {
   "attachments": {},
   "cell_type": "markdown",
   "metadata": {},
   "source": [
    "### Prep for Sanity schema"
   ]
  },
  {
   "cell_type": "code",
   "execution_count": 12,
   "metadata": {},
   "outputs": [],
   "source": [
    "def new_audio_link(audioLink):\n",
    "    try:\n",
    "        return audioLink.split('.org/')[-1].replace('/','___')\n",
    "    except:\n",
    "        return \"\""
   ]
  },
  {
   "cell_type": "code",
   "execution_count": 18,
   "metadata": {},
   "outputs": [],
   "source": [
    "sermons_edited = pd.read_excel('../data/sermons.xlsx')\n"
   ]
  },
  {
   "cell_type": "code",
   "execution_count": 5,
   "metadata": {},
   "outputs": [],
   "source": [
    "sermons_edited = sermons_edited.drop(columns=['Unnamed: 0',])\n",
    "sermons_edited['mp3File'] = sermons_edited.audioLink.apply(lambda x: new_audio_link(x))\n",
    "sermons_edited = sermons_edited.drop(columns=['date'])\n",
    "sermons_edited = sermons_edited.rename(columns={'date_str':'date', 'audioLink':'oldAudioLink'})\n",
    "sermons_edited = sermons_edited.reset_index().rename(columns={'index':'_id', 'series':'sermonSeries'})\n",
    "sermons_edited['_id'] = [str(uuid.uuid1(random.randint(0,100000))) for i in range(sermons_edited.shape[0])]\n",
    "sermons_edited['_type'] = 'sermons'\n",
    "sermons_edited = sermons_edited[['_id', '_type', 'date', 'speaker', 'book', 'passage', 'title', 'sermonSeries', 'mp3File', 'oldAudioLink']]\n",
    "sermons_edited = sermons_edited.fillna(\"\")"
   ]
  },
  {
   "cell_type": "code",
   "execution_count": 6,
   "metadata": {},
   "outputs": [],
   "source": [
    "sermons_edited = sermons_edited[sermons_edited.date <= \"2022-10-31\"]\n",
    "\n",
    "sermons_edited['book'] = sermons_edited.book.apply(lambda x: 'Hebrews' if x == 'Hebrew' else x)\n",
    "\n",
    "sermons_edited.drop(columns=['mp3File']).to_json(\"../cms/sermons.ndjson\",\n",
    "           orient=\"records\",\n",
    "           force_ascii=False,\n",
    "           lines=True)\n"
   ]
  },
  {
   "cell_type": "code",
   "execution_count": 7,
   "metadata": {},
   "outputs": [
    {
     "data": {
      "text/html": [
       "<div>\n",
       "<style scoped>\n",
       "    .dataframe tbody tr th:only-of-type {\n",
       "        vertical-align: middle;\n",
       "    }\n",
       "\n",
       "    .dataframe tbody tr th {\n",
       "        vertical-align: top;\n",
       "    }\n",
       "\n",
       "    .dataframe thead th {\n",
       "        text-align: right;\n",
       "    }\n",
       "</style>\n",
       "<table border=\"1\" class=\"dataframe\">\n",
       "  <thead>\n",
       "    <tr style=\"text-align: right;\">\n",
       "      <th></th>\n",
       "      <th>_id</th>\n",
       "      <th>_type</th>\n",
       "      <th>date</th>\n",
       "      <th>speaker</th>\n",
       "      <th>book</th>\n",
       "      <th>passage</th>\n",
       "      <th>title</th>\n",
       "      <th>sermonSeries</th>\n",
       "      <th>mp3File</th>\n",
       "      <th>oldAudioLink</th>\n",
       "    </tr>\n",
       "  </thead>\n",
       "  <tbody>\n",
       "    <tr>\n",
       "      <th>0</th>\n",
       "      <td>79ad4898-8f88-11ed-8d0d-00000001732a</td>\n",
       "      <td>sermons</td>\n",
       "      <td>2005-08-07</td>\n",
       "      <td>Todd Wilson</td>\n",
       "      <td>1 Corinthians</td>\n",
       "      <td>11:23-34</td>\n",
       "      <td>Faithful Partakers</td>\n",
       "      <td>1 Corinthians</td>\n",
       "      <td>media___1_Corinthians___mp3___1_Corinthians_27...</td>\n",
       "      <td>https://www.gracecovenantbaptist.org/media/1_C...</td>\n",
       "    </tr>\n",
       "    <tr>\n",
       "      <th>1</th>\n",
       "      <td>79ad496a-8f88-11ed-bc4a-00000000b78d</td>\n",
       "      <td>sermons</td>\n",
       "      <td>2005-08-14</td>\n",
       "      <td>Todd Wilson</td>\n",
       "      <td>1 Corinthians</td>\n",
       "      <td>1:1-9</td>\n",
       "      <td>Paul and Corinth</td>\n",
       "      <td>1 Corinthians</td>\n",
       "      <td>media___1_Corinthians___mp3___1_Corinthians_1.mp3</td>\n",
       "      <td>https://www.gracecovenantbaptist.org/media/1_C...</td>\n",
       "    </tr>\n",
       "  </tbody>\n",
       "</table>\n",
       "</div>"
      ],
      "text/plain": [
       "                                    _id    _type        date      speaker  \\\n",
       "0  79ad4898-8f88-11ed-8d0d-00000001732a  sermons  2005-08-07  Todd Wilson   \n",
       "1  79ad496a-8f88-11ed-bc4a-00000000b78d  sermons  2005-08-14  Todd Wilson   \n",
       "\n",
       "            book   passage               title   sermonSeries  \\\n",
       "0  1 Corinthians  11:23-34  Faithful Partakers  1 Corinthians   \n",
       "1  1 Corinthians     1:1-9    Paul and Corinth  1 Corinthians   \n",
       "\n",
       "                                             mp3File  \\\n",
       "0  media___1_Corinthians___mp3___1_Corinthians_27...   \n",
       "1  media___1_Corinthians___mp3___1_Corinthians_1.mp3   \n",
       "\n",
       "                                        oldAudioLink  \n",
       "0  https://www.gracecovenantbaptist.org/media/1_C...  \n",
       "1  https://www.gracecovenantbaptist.org/media/1_C...  "
      ]
     },
     "execution_count": 7,
     "metadata": {},
     "output_type": "execute_result"
    }
   ],
   "source": [
    "sermons_edited.head(2)"
   ]
  },
  {
   "cell_type": "code",
   "execution_count": null,
   "metadata": {},
   "outputs": [],
   "source": [
    "mp3List = sermons_edited[['_id','mp3File']].rename(columns={'_id':'assetId', 'mp3File':'mp3FileName'}).to_dict('records')\n",
    "with open('../cms/mp3List.js', 'w') as f:\n",
    "    f.write(f\"export const mp3s = {json.dumps(mp3List)}\")"
   ]
  },
  {
   "cell_type": "code",
   "execution_count": null,
   "metadata": {},
   "outputs": [],
   "source": []
  },
  {
   "attachments": {},
   "cell_type": "markdown",
   "metadata": {},
   "source": [
    "### Sunday School for Sanity"
   ]
  },
  {
   "cell_type": "code",
   "execution_count": 20,
   "metadata": {},
   "outputs": [],
   "source": [
    "df = pd.read_pickle('../data/teaching_clean.pkl')\n",
    "ss = df[df.category=='sunday school'].rename(columns={'title':'title_raw'})\n",
    "def get_title(s):\n",
    "    try:\n",
    "        return s[:s.rfind('(')].strip()\n",
    "    except:\n",
    "        return ''\n",
    "\n",
    "def get_passage(s):\n",
    "    try:\n",
    "        return s[s.rfind('('):].strip().replace('(','').replace(')','')\n",
    "    except:\n",
    "        return ''\n",
    "                \n",
    "ss['title'] = ss.title_raw.apply(lambda x: get_title(x))\n",
    "ss['passage'] = ss.title_raw.apply(lambda x: get_passage(x))\n",
    "ss = ss.sort_values('date_str').reset_index(drop=True)\n",
    "ss.to_excel('../data/temp_ss_for_google_drive.xlsx')"
   ]
  },
  {
   "cell_type": "code",
   "execution_count": 21,
   "metadata": {},
   "outputs": [
    {
     "data": {
      "text/html": [
       "<div>\n",
       "<style scoped>\n",
       "    .dataframe tbody tr th:only-of-type {\n",
       "        vertical-align: middle;\n",
       "    }\n",
       "\n",
       "    .dataframe tbody tr th {\n",
       "        vertical-align: top;\n",
       "    }\n",
       "\n",
       "    .dataframe thead th {\n",
       "        text-align: right;\n",
       "    }\n",
       "</style>\n",
       "<table border=\"1\" class=\"dataframe\">\n",
       "  <thead>\n",
       "    <tr style=\"text-align: right;\">\n",
       "      <th></th>\n",
       "      <th>date</th>\n",
       "      <th>speaker</th>\n",
       "      <th>title_raw</th>\n",
       "      <th>audioLink</th>\n",
       "      <th>handoutLink</th>\n",
       "      <th>testament</th>\n",
       "      <th>book</th>\n",
       "      <th>date_str</th>\n",
       "      <th>year</th>\n",
       "      <th>category</th>\n",
       "      <th>title</th>\n",
       "      <th>passage</th>\n",
       "    </tr>\n",
       "  </thead>\n",
       "  <tbody>\n",
       "    <tr>\n",
       "      <th>0</th>\n",
       "      <td>09/04/2005</td>\n",
       "      <td>Michael Gaydosh</td>\n",
       "      <td>Daniel 1</td>\n",
       "      <td>https://www.gracecovenantbaptist.org/media/Dan...</td>\n",
       "      <td>NaN</td>\n",
       "      <td>OT</td>\n",
       "      <td>Daniel</td>\n",
       "      <td>2005-09-04</td>\n",
       "      <td>2005</td>\n",
       "      <td>sunday school</td>\n",
       "      <td>Daniel 1</td>\n",
       "      <td></td>\n",
       "    </tr>\n",
       "    <tr>\n",
       "      <th>1</th>\n",
       "      <td>09/11/2005</td>\n",
       "      <td>Steve Cowan</td>\n",
       "      <td>Daniel 2</td>\n",
       "      <td>https://www.gracecovenantbaptist.org/media/Dan...</td>\n",
       "      <td>NaN</td>\n",
       "      <td>OT</td>\n",
       "      <td>Daniel</td>\n",
       "      <td>2005-09-11</td>\n",
       "      <td>2005</td>\n",
       "      <td>sunday school</td>\n",
       "      <td>Daniel 2</td>\n",
       "      <td></td>\n",
       "    </tr>\n",
       "    <tr>\n",
       "      <th>2</th>\n",
       "      <td>09/18/2005</td>\n",
       "      <td>Michael Gaydosh</td>\n",
       "      <td>Daniel 3</td>\n",
       "      <td>https://www.gracecovenantbaptist.org/media/Dan...</td>\n",
       "      <td>NaN</td>\n",
       "      <td>OT</td>\n",
       "      <td>Daniel</td>\n",
       "      <td>2005-09-18</td>\n",
       "      <td>2005</td>\n",
       "      <td>sunday school</td>\n",
       "      <td>Daniel 3</td>\n",
       "      <td></td>\n",
       "    </tr>\n",
       "    <tr>\n",
       "      <th>3</th>\n",
       "      <td>10/02/2005</td>\n",
       "      <td>Jayson Faulkner</td>\n",
       "      <td>Daniel 4</td>\n",
       "      <td>https://www.gracecovenantbaptist.org/media/Dan...</td>\n",
       "      <td>NaN</td>\n",
       "      <td>OT</td>\n",
       "      <td>Daniel</td>\n",
       "      <td>2005-10-02</td>\n",
       "      <td>2005</td>\n",
       "      <td>sunday school</td>\n",
       "      <td>Daniel 4</td>\n",
       "      <td></td>\n",
       "    </tr>\n",
       "    <tr>\n",
       "      <th>4</th>\n",
       "      <td>10/09/2005</td>\n",
       "      <td>Steve Cowan</td>\n",
       "      <td>Daniel 5</td>\n",
       "      <td>https://www.gracecovenantbaptist.org/media/Dan...</td>\n",
       "      <td>NaN</td>\n",
       "      <td>OT</td>\n",
       "      <td>Daniel</td>\n",
       "      <td>2005-10-09</td>\n",
       "      <td>2005</td>\n",
       "      <td>sunday school</td>\n",
       "      <td>Daniel 5</td>\n",
       "      <td></td>\n",
       "    </tr>\n",
       "  </tbody>\n",
       "</table>\n",
       "</div>"
      ],
      "text/plain": [
       "         date          speaker  title_raw  \\\n",
       "0  09/04/2005  Michael Gaydosh  Daniel 1    \n",
       "1  09/11/2005      Steve Cowan  Daniel 2    \n",
       "2  09/18/2005  Michael Gaydosh  Daniel 3    \n",
       "3  10/02/2005  Jayson Faulkner  Daniel 4    \n",
       "4  10/09/2005      Steve Cowan  Daniel 5    \n",
       "\n",
       "                                           audioLink handoutLink testament  \\\n",
       "0  https://www.gracecovenantbaptist.org/media/Dan...         NaN        OT   \n",
       "1  https://www.gracecovenantbaptist.org/media/Dan...         NaN        OT   \n",
       "2  https://www.gracecovenantbaptist.org/media/Dan...         NaN        OT   \n",
       "3  https://www.gracecovenantbaptist.org/media/Dan...         NaN        OT   \n",
       "4  https://www.gracecovenantbaptist.org/media/Dan...         NaN        OT   \n",
       "\n",
       "     book    date_str  year       category     title passage  \n",
       "0  Daniel  2005-09-04  2005  sunday school  Daniel 1          \n",
       "1  Daniel  2005-09-11  2005  sunday school  Daniel 2          \n",
       "2  Daniel  2005-09-18  2005  sunday school  Daniel 3          \n",
       "3  Daniel  2005-10-02  2005  sunday school  Daniel 4          \n",
       "4  Daniel  2005-10-09  2005  sunday school  Daniel 5          "
      ]
     },
     "execution_count": 21,
     "metadata": {},
     "output_type": "execute_result"
    }
   ],
   "source": [
    "ss.head()"
   ]
  },
  {
   "cell_type": "code",
   "execution_count": 19,
   "metadata": {},
   "outputs": [
    {
     "data": {
      "text/html": [
       "<div>\n",
       "<style scoped>\n",
       "    .dataframe tbody tr th:only-of-type {\n",
       "        vertical-align: middle;\n",
       "    }\n",
       "\n",
       "    .dataframe tbody tr th {\n",
       "        vertical-align: top;\n",
       "    }\n",
       "\n",
       "    .dataframe thead th {\n",
       "        text-align: right;\n",
       "    }\n",
       "</style>\n",
       "<table border=\"1\" class=\"dataframe\">\n",
       "  <thead>\n",
       "    <tr style=\"text-align: right;\">\n",
       "      <th></th>\n",
       "      <th>Unnamed: 0</th>\n",
       "      <th>category</th>\n",
       "      <th>date</th>\n",
       "      <th>date_str</th>\n",
       "      <th>year</th>\n",
       "      <th>speaker</th>\n",
       "      <th>title_raw</th>\n",
       "      <th>audioLink</th>\n",
       "      <th>handoutLink</th>\n",
       "      <th>title</th>\n",
       "      <th>passage</th>\n",
       "      <th>book</th>\n",
       "      <th>testament</th>\n",
       "      <th>series</th>\n",
       "    </tr>\n",
       "  </thead>\n",
       "  <tbody>\n",
       "    <tr>\n",
       "      <th>0</th>\n",
       "      <td>0</td>\n",
       "      <td>sermon</td>\n",
       "      <td>08/07/2005</td>\n",
       "      <td>2005-08-07</td>\n",
       "      <td>2005</td>\n",
       "      <td>Todd Wilson</td>\n",
       "      <td>Faithful Partakers (11:23-34)</td>\n",
       "      <td>https://www.gracecovenantbaptist.org/media/1_C...</td>\n",
       "      <td>NaN</td>\n",
       "      <td>Faithful Partakers</td>\n",
       "      <td>11:23-34</td>\n",
       "      <td>1 Corinthians</td>\n",
       "      <td>NT</td>\n",
       "      <td>1 Corinthians</td>\n",
       "    </tr>\n",
       "  </tbody>\n",
       "</table>\n",
       "</div>"
      ],
      "text/plain": [
       "   Unnamed: 0 category        date    date_str  year      speaker  \\\n",
       "0           0   sermon  08/07/2005  2005-08-07  2005  Todd Wilson   \n",
       "\n",
       "                       title_raw  \\\n",
       "0  Faithful Partakers (11:23-34)   \n",
       "\n",
       "                                           audioLink handoutLink  \\\n",
       "0  https://www.gracecovenantbaptist.org/media/1_C...         NaN   \n",
       "\n",
       "                title   passage           book testament         series  \n",
       "0  Faithful Partakers  11:23-34  1 Corinthians        NT  1 Corinthians  "
      ]
     },
     "execution_count": 19,
     "metadata": {},
     "output_type": "execute_result"
    }
   ],
   "source": [
    "sermons_edited.head(1)"
   ]
  },
  {
   "cell_type": "code",
   "execution_count": 14,
   "metadata": {},
   "outputs": [
    {
     "ename": "KeyError",
     "evalue": "\"['Unnamed: 0'] not found in axis\"",
     "output_type": "error",
     "traceback": [
      "\u001b[0;31m---------------------------------------------------------------------------\u001b[0m",
      "\u001b[0;31mKeyError\u001b[0m                                  Traceback (most recent call last)",
      "Cell \u001b[0;32mIn[14], line 1\u001b[0m\n\u001b[0;32m----> 1\u001b[0m ss_edited \u001b[39m=\u001b[39m ss_edited\u001b[39m.\u001b[39;49mdrop(columns\u001b[39m=\u001b[39;49m[\u001b[39m'\u001b[39;49m\u001b[39mUnnamed: 0\u001b[39;49m\u001b[39m'\u001b[39;49m,])\n\u001b[1;32m      2\u001b[0m ss_edited[\u001b[39m'\u001b[39m\u001b[39mmp3File\u001b[39m\u001b[39m'\u001b[39m] \u001b[39m=\u001b[39m ss_edited\u001b[39m.\u001b[39maudioLink\u001b[39m.\u001b[39mapply(\u001b[39mlambda\u001b[39;00m x: new_audio_link(x))\n\u001b[1;32m      3\u001b[0m ss_edited \u001b[39m=\u001b[39m ss_edited\u001b[39m.\u001b[39mdrop(columns\u001b[39m=\u001b[39m[\u001b[39m'\u001b[39m\u001b[39mdate\u001b[39m\u001b[39m'\u001b[39m])\n",
      "File \u001b[0;32m~/dev/gcbc/venv/lib/python3.9/site-packages/pandas/util/_decorators.py:331\u001b[0m, in \u001b[0;36mdeprecate_nonkeyword_arguments.<locals>.decorate.<locals>.wrapper\u001b[0;34m(*args, **kwargs)\u001b[0m\n\u001b[1;32m    325\u001b[0m \u001b[39mif\u001b[39;00m \u001b[39mlen\u001b[39m(args) \u001b[39m>\u001b[39m num_allow_args:\n\u001b[1;32m    326\u001b[0m     warnings\u001b[39m.\u001b[39mwarn(\n\u001b[1;32m    327\u001b[0m         msg\u001b[39m.\u001b[39mformat(arguments\u001b[39m=\u001b[39m_format_argument_list(allow_args)),\n\u001b[1;32m    328\u001b[0m         \u001b[39mFutureWarning\u001b[39;00m,\n\u001b[1;32m    329\u001b[0m         stacklevel\u001b[39m=\u001b[39mfind_stack_level(),\n\u001b[1;32m    330\u001b[0m     )\n\u001b[0;32m--> 331\u001b[0m \u001b[39mreturn\u001b[39;00m func(\u001b[39m*\u001b[39;49margs, \u001b[39m*\u001b[39;49m\u001b[39m*\u001b[39;49mkwargs)\n",
      "File \u001b[0;32m~/dev/gcbc/venv/lib/python3.9/site-packages/pandas/core/frame.py:5396\u001b[0m, in \u001b[0;36mDataFrame.drop\u001b[0;34m(self, labels, axis, index, columns, level, inplace, errors)\u001b[0m\n\u001b[1;32m   5248\u001b[0m \u001b[39m@deprecate_nonkeyword_arguments\u001b[39m(version\u001b[39m=\u001b[39m\u001b[39mNone\u001b[39;00m, allowed_args\u001b[39m=\u001b[39m[\u001b[39m\"\u001b[39m\u001b[39mself\u001b[39m\u001b[39m\"\u001b[39m, \u001b[39m\"\u001b[39m\u001b[39mlabels\u001b[39m\u001b[39m\"\u001b[39m])\n\u001b[1;32m   5249\u001b[0m \u001b[39mdef\u001b[39;00m \u001b[39mdrop\u001b[39m(  \u001b[39m# type: ignore[override]\u001b[39;00m\n\u001b[1;32m   5250\u001b[0m     \u001b[39mself\u001b[39m,\n\u001b[0;32m   (...)\u001b[0m\n\u001b[1;32m   5257\u001b[0m     errors: IgnoreRaise \u001b[39m=\u001b[39m \u001b[39m\"\u001b[39m\u001b[39mraise\u001b[39m\u001b[39m\"\u001b[39m,\n\u001b[1;32m   5258\u001b[0m ) \u001b[39m-\u001b[39m\u001b[39m>\u001b[39m DataFrame \u001b[39m|\u001b[39m \u001b[39mNone\u001b[39;00m:\n\u001b[1;32m   5259\u001b[0m     \u001b[39m\"\"\"\u001b[39;00m\n\u001b[1;32m   5260\u001b[0m \u001b[39m    Drop specified labels from rows or columns.\u001b[39;00m\n\u001b[1;32m   5261\u001b[0m \n\u001b[0;32m   (...)\u001b[0m\n\u001b[1;32m   5394\u001b[0m \u001b[39m            weight  1.0     0.8\u001b[39;00m\n\u001b[1;32m   5395\u001b[0m \u001b[39m    \"\"\"\u001b[39;00m\n\u001b[0;32m-> 5396\u001b[0m     \u001b[39mreturn\u001b[39;00m \u001b[39msuper\u001b[39;49m()\u001b[39m.\u001b[39;49mdrop(\n\u001b[1;32m   5397\u001b[0m         labels\u001b[39m=\u001b[39;49mlabels,\n\u001b[1;32m   5398\u001b[0m         axis\u001b[39m=\u001b[39;49maxis,\n\u001b[1;32m   5399\u001b[0m         index\u001b[39m=\u001b[39;49mindex,\n\u001b[1;32m   5400\u001b[0m         columns\u001b[39m=\u001b[39;49mcolumns,\n\u001b[1;32m   5401\u001b[0m         level\u001b[39m=\u001b[39;49mlevel,\n\u001b[1;32m   5402\u001b[0m         inplace\u001b[39m=\u001b[39;49minplace,\n\u001b[1;32m   5403\u001b[0m         errors\u001b[39m=\u001b[39;49merrors,\n\u001b[1;32m   5404\u001b[0m     )\n",
      "File \u001b[0;32m~/dev/gcbc/venv/lib/python3.9/site-packages/pandas/util/_decorators.py:331\u001b[0m, in \u001b[0;36mdeprecate_nonkeyword_arguments.<locals>.decorate.<locals>.wrapper\u001b[0;34m(*args, **kwargs)\u001b[0m\n\u001b[1;32m    325\u001b[0m \u001b[39mif\u001b[39;00m \u001b[39mlen\u001b[39m(args) \u001b[39m>\u001b[39m num_allow_args:\n\u001b[1;32m    326\u001b[0m     warnings\u001b[39m.\u001b[39mwarn(\n\u001b[1;32m    327\u001b[0m         msg\u001b[39m.\u001b[39mformat(arguments\u001b[39m=\u001b[39m_format_argument_list(allow_args)),\n\u001b[1;32m    328\u001b[0m         \u001b[39mFutureWarning\u001b[39;00m,\n\u001b[1;32m    329\u001b[0m         stacklevel\u001b[39m=\u001b[39mfind_stack_level(),\n\u001b[1;32m    330\u001b[0m     )\n\u001b[0;32m--> 331\u001b[0m \u001b[39mreturn\u001b[39;00m func(\u001b[39m*\u001b[39;49margs, \u001b[39m*\u001b[39;49m\u001b[39m*\u001b[39;49mkwargs)\n",
      "File \u001b[0;32m~/dev/gcbc/venv/lib/python3.9/site-packages/pandas/core/generic.py:4505\u001b[0m, in \u001b[0;36mNDFrame.drop\u001b[0;34m(self, labels, axis, index, columns, level, inplace, errors)\u001b[0m\n\u001b[1;32m   4503\u001b[0m \u001b[39mfor\u001b[39;00m axis, labels \u001b[39min\u001b[39;00m axes\u001b[39m.\u001b[39mitems():\n\u001b[1;32m   4504\u001b[0m     \u001b[39mif\u001b[39;00m labels \u001b[39mis\u001b[39;00m \u001b[39mnot\u001b[39;00m \u001b[39mNone\u001b[39;00m:\n\u001b[0;32m-> 4505\u001b[0m         obj \u001b[39m=\u001b[39m obj\u001b[39m.\u001b[39;49m_drop_axis(labels, axis, level\u001b[39m=\u001b[39;49mlevel, errors\u001b[39m=\u001b[39;49merrors)\n\u001b[1;32m   4507\u001b[0m \u001b[39mif\u001b[39;00m inplace:\n\u001b[1;32m   4508\u001b[0m     \u001b[39mself\u001b[39m\u001b[39m.\u001b[39m_update_inplace(obj)\n",
      "File \u001b[0;32m~/dev/gcbc/venv/lib/python3.9/site-packages/pandas/core/generic.py:4546\u001b[0m, in \u001b[0;36mNDFrame._drop_axis\u001b[0;34m(self, labels, axis, level, errors, only_slice)\u001b[0m\n\u001b[1;32m   4544\u001b[0m         new_axis \u001b[39m=\u001b[39m axis\u001b[39m.\u001b[39mdrop(labels, level\u001b[39m=\u001b[39mlevel, errors\u001b[39m=\u001b[39merrors)\n\u001b[1;32m   4545\u001b[0m     \u001b[39melse\u001b[39;00m:\n\u001b[0;32m-> 4546\u001b[0m         new_axis \u001b[39m=\u001b[39m axis\u001b[39m.\u001b[39;49mdrop(labels, errors\u001b[39m=\u001b[39;49merrors)\n\u001b[1;32m   4547\u001b[0m     indexer \u001b[39m=\u001b[39m axis\u001b[39m.\u001b[39mget_indexer(new_axis)\n\u001b[1;32m   4549\u001b[0m \u001b[39m# Case for non-unique axis\u001b[39;00m\n\u001b[1;32m   4550\u001b[0m \u001b[39melse\u001b[39;00m:\n",
      "File \u001b[0;32m~/dev/gcbc/venv/lib/python3.9/site-packages/pandas/core/indexes/base.py:6977\u001b[0m, in \u001b[0;36mIndex.drop\u001b[0;34m(self, labels, errors)\u001b[0m\n\u001b[1;32m   6975\u001b[0m \u001b[39mif\u001b[39;00m mask\u001b[39m.\u001b[39many():\n\u001b[1;32m   6976\u001b[0m     \u001b[39mif\u001b[39;00m errors \u001b[39m!=\u001b[39m \u001b[39m\"\u001b[39m\u001b[39mignore\u001b[39m\u001b[39m\"\u001b[39m:\n\u001b[0;32m-> 6977\u001b[0m         \u001b[39mraise\u001b[39;00m \u001b[39mKeyError\u001b[39;00m(\u001b[39mf\u001b[39m\u001b[39m\"\u001b[39m\u001b[39m{\u001b[39;00m\u001b[39mlist\u001b[39m(labels[mask])\u001b[39m}\u001b[39;00m\u001b[39m not found in axis\u001b[39m\u001b[39m\"\u001b[39m)\n\u001b[1;32m   6978\u001b[0m     indexer \u001b[39m=\u001b[39m indexer[\u001b[39m~\u001b[39mmask]\n\u001b[1;32m   6979\u001b[0m \u001b[39mreturn\u001b[39;00m \u001b[39mself\u001b[39m\u001b[39m.\u001b[39mdelete(indexer)\n",
      "\u001b[0;31mKeyError\u001b[0m: \"['Unnamed: 0'] not found in axis\""
     ]
    }
   ],
   "source": [
    "ss_edited = ss_edited.drop(columns=['Unnamed: 0',])\n",
    "ss_edited['mp3File'] = ss_edited.audioLink.apply(lambda x: new_audio_link(x))\n",
    "ss_edited = ss_edited.drop(columns=['date'])\n",
    "ss_edited = ss_edited.rename(columns={'date_str':'date', 'audioLink':'oldAudioLink'})\n",
    "ss_edited = ss_edited.reset_index().rename(columns={'index':'_id', 'series':'sermonSeries'})\n",
    "ss_edited['_id'] = [str(uuid.uuid1(random.randint(0,100000))) for i in range(ss_edited.shape[0])]\n",
    "ss_edited['_type'] = 'sermons'\n",
    "ss_edited = ss_edited[['_id', '_type', 'date', 'speaker', 'book', 'passage', 'title', 'sermonSeries', 'mp3File', 'oldAudioLink']]\n",
    "ss_edited = ss_edited.fillna(\"\")"
   ]
  },
  {
   "cell_type": "code",
   "execution_count": null,
   "metadata": {},
   "outputs": [],
   "source": []
  }
 ],
 "metadata": {
  "kernelspec": {
   "display_name": "Python 3.9.6 ('venv': venv)",
   "language": "python",
   "name": "python3"
  },
  "language_info": {
   "codemirror_mode": {
    "name": "ipython",
    "version": 3
   },
   "file_extension": ".py",
   "mimetype": "text/x-python",
   "name": "python",
   "nbconvert_exporter": "python",
   "pygments_lexer": "ipython3",
   "version": "3.9.6"
  },
  "orig_nbformat": 4,
  "vscode": {
   "interpreter": {
    "hash": "95f380b9e2c92a6964d1383707d3d6c101f4db7cc7fa04e6d96977e12139b588"
   }
  }
 },
 "nbformat": 4,
 "nbformat_minor": 2
}

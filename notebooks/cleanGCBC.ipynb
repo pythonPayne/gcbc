{
 "cells": [
  {
   "cell_type": "code",
   "execution_count": 1,
   "metadata": {},
   "outputs": [],
   "source": [
    "import pandas as pd\n",
    "import uuid\n",
    "import random\n",
    "import json"
   ]
  },
  {
   "attachments": {},
   "cell_type": "markdown",
   "metadata": {},
   "source": [
    "### Fix on Google Drive"
   ]
  },
  {
   "cell_type": "code",
   "execution_count": 12,
   "metadata": {},
   "outputs": [],
   "source": [
    "# df = pd.read_pickle('../data/teaching.pkl')\n",
    "# sermons = df[df.category=='sermon'].rename(columns={'title':'title_raw'})\n",
    "# def get_title(s):\n",
    "#     try:\n",
    "#         return s[:s.rfind('(')].strip()\n",
    "#     except:\n",
    "#         return ''\n",
    "\n",
    "# def get_passage(s):\n",
    "#     try:\n",
    "#         return s[s.rfind('('):].strip().replace('(','').replace(')','')\n",
    "#     except:\n",
    "#         return ''\n",
    "                \n",
    "# sermons['title'] = sermons.title_raw.apply(lambda x: get_title(x))\n",
    "# sermons['passage'] = sermons.title_raw.apply(lambda x: get_passage(x))\n",
    "# sermons = sermons.sort_values('date_str').reset_index(drop=True)\n",
    "# sermons.to_excel('../data/temp_sermons_for_google_drive.xlsx')"
   ]
  },
  {
   "attachments": {},
   "cell_type": "markdown",
   "metadata": {},
   "source": [
    "### Prep for Sanity schema"
   ]
  },
  {
   "cell_type": "code",
   "execution_count": 2,
   "metadata": {},
   "outputs": [],
   "source": [
    "def new_audio_link(audioLink):\n",
    "    try:\n",
    "        return audioLink.split('.org/')[-1].replace('/','___')\n",
    "    except:\n",
    "        return \"\""
   ]
  },
  {
   "cell_type": "code",
   "execution_count": 3,
   "metadata": {},
   "outputs": [],
   "source": [
    "sermons_edited = pd.read_excel('../data/sermons.xlsx')\n"
   ]
  },
  {
   "cell_type": "code",
   "execution_count": 4,
   "metadata": {},
   "outputs": [
    {
     "data": {
      "text/html": [
       "<div>\n",
       "<style scoped>\n",
       "    .dataframe tbody tr th:only-of-type {\n",
       "        vertical-align: middle;\n",
       "    }\n",
       "\n",
       "    .dataframe tbody tr th {\n",
       "        vertical-align: top;\n",
       "    }\n",
       "\n",
       "    .dataframe thead th {\n",
       "        text-align: right;\n",
       "    }\n",
       "</style>\n",
       "<table border=\"1\" class=\"dataframe\">\n",
       "  <thead>\n",
       "    <tr style=\"text-align: right;\">\n",
       "      <th></th>\n",
       "      <th>Unnamed: 0</th>\n",
       "      <th>category</th>\n",
       "      <th>date</th>\n",
       "      <th>date_str</th>\n",
       "      <th>year</th>\n",
       "      <th>speaker</th>\n",
       "      <th>title_raw</th>\n",
       "      <th>audioLink</th>\n",
       "      <th>handoutLink</th>\n",
       "      <th>title</th>\n",
       "      <th>passage</th>\n",
       "      <th>book</th>\n",
       "      <th>testament</th>\n",
       "      <th>series</th>\n",
       "    </tr>\n",
       "  </thead>\n",
       "  <tbody>\n",
       "    <tr>\n",
       "      <th>0</th>\n",
       "      <td>0</td>\n",
       "      <td>sermon</td>\n",
       "      <td>08/07/2005</td>\n",
       "      <td>2005-08-07</td>\n",
       "      <td>2005</td>\n",
       "      <td>Todd Wilson</td>\n",
       "      <td>Faithful Partakers (11:23-34)</td>\n",
       "      <td>https://www.gracecovenantbaptist.org/media/1_C...</td>\n",
       "      <td>NaN</td>\n",
       "      <td>Faithful Partakers</td>\n",
       "      <td>11:23-34</td>\n",
       "      <td>1 Corinthians</td>\n",
       "      <td>NT</td>\n",
       "      <td>1 Corinthians</td>\n",
       "    </tr>\n",
       "    <tr>\n",
       "      <th>1</th>\n",
       "      <td>1</td>\n",
       "      <td>sermon</td>\n",
       "      <td>08/14/2005</td>\n",
       "      <td>2005-08-14</td>\n",
       "      <td>2005</td>\n",
       "      <td>Todd Wilson</td>\n",
       "      <td>Paul and Corinth (1:1-9)</td>\n",
       "      <td>https://www.gracecovenantbaptist.org/media/1_C...</td>\n",
       "      <td>NaN</td>\n",
       "      <td>Paul and Corinth</td>\n",
       "      <td>1:1-9</td>\n",
       "      <td>1 Corinthians</td>\n",
       "      <td>NT</td>\n",
       "      <td>1 Corinthians</td>\n",
       "    </tr>\n",
       "  </tbody>\n",
       "</table>\n",
       "</div>"
      ],
      "text/plain": [
       "   Unnamed: 0 category        date    date_str  year      speaker  \\\n",
       "0           0   sermon  08/07/2005  2005-08-07  2005  Todd Wilson   \n",
       "1           1   sermon  08/14/2005  2005-08-14  2005  Todd Wilson   \n",
       "\n",
       "                       title_raw  \\\n",
       "0  Faithful Partakers (11:23-34)   \n",
       "1       Paul and Corinth (1:1-9)   \n",
       "\n",
       "                                           audioLink handoutLink  \\\n",
       "0  https://www.gracecovenantbaptist.org/media/1_C...         NaN   \n",
       "1  https://www.gracecovenantbaptist.org/media/1_C...         NaN   \n",
       "\n",
       "                title   passage           book testament         series  \n",
       "0  Faithful Partakers  11:23-34  1 Corinthians        NT  1 Corinthians  \n",
       "1    Paul and Corinth     1:1-9  1 Corinthians        NT  1 Corinthians  "
      ]
     },
     "execution_count": 4,
     "metadata": {},
     "output_type": "execute_result"
    }
   ],
   "source": [
    "sermons_edited.head(2)"
   ]
  },
  {
   "cell_type": "code",
   "execution_count": 5,
   "metadata": {},
   "outputs": [],
   "source": [
    "sermons_edited = sermons_edited.drop(columns=['Unnamed: 0',])\n",
    "sermons_edited['mp3File'] = sermons_edited.audioLink.apply(lambda x: new_audio_link(x))\n",
    "sermons_edited = sermons_edited.drop(columns=['date'])\n",
    "sermons_edited = sermons_edited.rename(columns={'date_str':'date', 'audioLink':'oldAudioLink'})\n",
    "sermons_edited = sermons_edited.reset_index().rename(columns={'index':'_id', 'series':'sermonSeries'})\n",
    "sermons_edited['_id'] = [str(uuid.uuid1(random.randint(0,100000))) for i in range(sermons_edited.shape[0])]\n",
    "sermons_edited['_type'] = 'sermons'\n",
    "sermons_edited = sermons_edited[['_id', '_type', 'date', 'speaker', 'book', 'passage', 'title', 'sermonSeries', 'mp3File', 'oldAudioLink']]\n",
    "sermons_edited = sermons_edited.fillna(\"\")"
   ]
  },
  {
   "cell_type": "code",
   "execution_count": 6,
   "metadata": {},
   "outputs": [],
   "source": [
    "sermons_edited = sermons_edited[sermons_edited.date <= \"2022-10-31\"]\n",
    "\n",
    "sermons_edited['book'] = sermons_edited.book.apply(lambda x: 'Hebrews' if x == 'Hebrew' else x)\n",
    "\n",
    "sermons_edited.drop(columns=['mp3File']).to_json(\"../cms/sermons.ndjson\",\n",
    "           orient=\"records\",\n",
    "           force_ascii=False,\n",
    "           lines=True)\n"
   ]
  },
  {
   "cell_type": "code",
   "execution_count": 7,
   "metadata": {},
   "outputs": [
    {
     "data": {
      "text/html": [
       "<div>\n",
       "<style scoped>\n",
       "    .dataframe tbody tr th:only-of-type {\n",
       "        vertical-align: middle;\n",
       "    }\n",
       "\n",
       "    .dataframe tbody tr th {\n",
       "        vertical-align: top;\n",
       "    }\n",
       "\n",
       "    .dataframe thead th {\n",
       "        text-align: right;\n",
       "    }\n",
       "</style>\n",
       "<table border=\"1\" class=\"dataframe\">\n",
       "  <thead>\n",
       "    <tr style=\"text-align: right;\">\n",
       "      <th></th>\n",
       "      <th>_id</th>\n",
       "      <th>_type</th>\n",
       "      <th>date</th>\n",
       "      <th>speaker</th>\n",
       "      <th>book</th>\n",
       "      <th>passage</th>\n",
       "      <th>title</th>\n",
       "      <th>sermonSeries</th>\n",
       "      <th>mp3File</th>\n",
       "      <th>oldAudioLink</th>\n",
       "    </tr>\n",
       "  </thead>\n",
       "  <tbody>\n",
       "    <tr>\n",
       "      <th>0</th>\n",
       "      <td>79ad4898-8f88-11ed-8d0d-00000001732a</td>\n",
       "      <td>sermons</td>\n",
       "      <td>2005-08-07</td>\n",
       "      <td>Todd Wilson</td>\n",
       "      <td>1 Corinthians</td>\n",
       "      <td>11:23-34</td>\n",
       "      <td>Faithful Partakers</td>\n",
       "      <td>1 Corinthians</td>\n",
       "      <td>media___1_Corinthians___mp3___1_Corinthians_27...</td>\n",
       "      <td>https://www.gracecovenantbaptist.org/media/1_C...</td>\n",
       "    </tr>\n",
       "    <tr>\n",
       "      <th>1</th>\n",
       "      <td>79ad496a-8f88-11ed-bc4a-00000000b78d</td>\n",
       "      <td>sermons</td>\n",
       "      <td>2005-08-14</td>\n",
       "      <td>Todd Wilson</td>\n",
       "      <td>1 Corinthians</td>\n",
       "      <td>1:1-9</td>\n",
       "      <td>Paul and Corinth</td>\n",
       "      <td>1 Corinthians</td>\n",
       "      <td>media___1_Corinthians___mp3___1_Corinthians_1.mp3</td>\n",
       "      <td>https://www.gracecovenantbaptist.org/media/1_C...</td>\n",
       "    </tr>\n",
       "  </tbody>\n",
       "</table>\n",
       "</div>"
      ],
      "text/plain": [
       "                                    _id    _type        date      speaker  \\\n",
       "0  79ad4898-8f88-11ed-8d0d-00000001732a  sermons  2005-08-07  Todd Wilson   \n",
       "1  79ad496a-8f88-11ed-bc4a-00000000b78d  sermons  2005-08-14  Todd Wilson   \n",
       "\n",
       "            book   passage               title   sermonSeries  \\\n",
       "0  1 Corinthians  11:23-34  Faithful Partakers  1 Corinthians   \n",
       "1  1 Corinthians     1:1-9    Paul and Corinth  1 Corinthians   \n",
       "\n",
       "                                             mp3File  \\\n",
       "0  media___1_Corinthians___mp3___1_Corinthians_27...   \n",
       "1  media___1_Corinthians___mp3___1_Corinthians_1.mp3   \n",
       "\n",
       "                                        oldAudioLink  \n",
       "0  https://www.gracecovenantbaptist.org/media/1_C...  \n",
       "1  https://www.gracecovenantbaptist.org/media/1_C...  "
      ]
     },
     "execution_count": 7,
     "metadata": {},
     "output_type": "execute_result"
    }
   ],
   "source": [
    "sermons_edited.head(2)"
   ]
  },
  {
   "cell_type": "code",
   "execution_count": null,
   "metadata": {},
   "outputs": [],
   "source": [
    "mp3List = sermons_edited[['_id','mp3File']].rename(columns={'_id':'assetId', 'mp3File':'mp3FileName'}).to_dict('records')\n",
    "with open('../cms/mp3List.js', 'w') as f:\n",
    "    f.write(f\"export const mp3s = {json.dumps(mp3List)}\")"
   ]
  }
 ],
 "metadata": {
  "kernelspec": {
   "display_name": "Python 3.9.6 ('venv': venv)",
   "language": "python",
   "name": "python3"
  },
  "language_info": {
   "codemirror_mode": {
    "name": "ipython",
    "version": 3
   },
   "file_extension": ".py",
   "mimetype": "text/x-python",
   "name": "python",
   "nbconvert_exporter": "python",
   "pygments_lexer": "ipython3",
   "version": "3.9.6"
  },
  "orig_nbformat": 4,
  "vscode": {
   "interpreter": {
    "hash": "95f380b9e2c92a6964d1383707d3d6c101f4db7cc7fa04e6d96977e12139b588"
   }
  }
 },
 "nbformat": 4,
 "nbformat_minor": 2
}

{
 "cells": [
  {
   "cell_type": "code",
   "execution_count": null,
   "metadata": {},
   "outputs": [],
   "source": [
    "import pandas as pd\n",
    "import requests\n",
    "import bs4\n",
    "from bs4 import BeautifulSoup\n",
    "import re"
   ]
  },
  {
   "cell_type": "code",
   "execution_count": null,
   "metadata": {},
   "outputs": [],
   "source": [
    "def get_chapter(chapterNum, chapterName):\n",
    "    print(chapterName)\n",
    "    url = f\"https://founders.org/library/1689-confession/{chapterName}/\"\n",
    "    res = requests.get(url)\n",
    "    soup = BeautifulSoup(res.text)\n",
    "\n",
    "    ps = soup.find(id=\"main\").find_all('p')\n",
    "    sections = [re.split(\"<sup>.</sup>\", ps[i].decode_contents()) for i in range(len(ps))]\n",
    "    sections = [s for s in sections if s != ['\\xa0']]\n",
    "\n",
    "    dfs = []\n",
    "    for i,section in enumerate(sections):        \n",
    "        dfs.append(pd.DataFrame({'section': section}))\n",
    "    df = pd.concat(dfs)    \n",
    "    df = df[df.section != \"\"].reset_index(drop=True).rename(columns={'section':'line'})\n",
    "\n",
    "    def get_paragraph_number(line):\n",
    "        try:\n",
    "            if line[:2] in [f'{x}.' for x in range(1,10)]:\n",
    "                return int(line[:1])\n",
    "            elif line[:3] in [f'{x}.' for x in range(10,100)]:\n",
    "                return int(line[:2])            \n",
    "        except:\n",
    "            pass\n",
    "\n",
    "    df['paragraph'] = df.line.apply(lambda x: get_paragraph_number(x)).interpolate(method=\"pad\")\n",
    "    df['paragraph'] = df.paragraph.astype(int)\n",
    "\n",
    "    df['line'] = df.line.apply(lambda x: x.replace('<br>','').replace('<sup>',' ').replace('\\n','').replace('<br/>','')\\\n",
    "        .replace('/>','').replace('</sup>',' ').replace('<em>','*').replace('</em>','').strip())\n",
    "\n",
    "    df['chapter'] = chapterNum\n",
    "\n",
    "    return df[['chapter', 'paragraph', 'line']]"
   ]
  },
  {
   "cell_type": "code",
   "execution_count": null,
   "metadata": {},
   "outputs": [],
   "source": [
    "chapterNames = [\n",
    "    \"chapter-1-the-holy-scriptures\",\n",
    "    \"chapter-2-god-and-the-holy-trinity\",\n",
    "    \"chapter-3-gods-decree\",\n",
    "    \"chapter-4-creation\",\n",
    "    \"chapter-5-divine-providence\",\n",
    "    \"chapter-6-the-fall-of-mankind-and-sin-and-its-punishment\",\n",
    "    \"chapter-7-gods-covenant\",\n",
    "    \"chapter-8-christ-the-mediator\",\n",
    "    \"chapter-9-free-will\",\n",
    "    \"chapter-10-effectual-calling\",\n",
    "    \"chapter-11-justification\",\n",
    "    \"chapter-12-adoption\",\n",
    "    \"chapter-13-sanctification\",\n",
    "    \"chapter-14-saving-faith\",\n",
    "    \"chapter-15-repentance-to-life-and-salvation\",\n",
    "    \"chapter-16-good-works\",\n",
    "    \"chapter-17-the-perseverance-of-the-saints\",\n",
    "    \"chapter-18-assurance-of-grace-and-salvation\",\n",
    "    \"chapter-19-the-law-of-god\",\n",
    "    \"chapter-20-the-gospel-and-the-extent-of-its-grace\",\n",
    "    \"chapter-21-christian-liberty-and-liberty-of-conscience\",\n",
    "    \"chapter-22-religious-worship-and-the-sabbath-day\",\n",
    "    \"chapter-23-lawful-oaths-and-vows\",\n",
    "    \"chapter-24-civil-government\",\n",
    "    \"chapter-25-marriage\",\n",
    "    \"chapter-26-the-church\",\n",
    "    \"chapter-27-the-communion-of-saints\",\n",
    "    \"chapter-28-baptism-and-the-lords-supper\",\n",
    "    \"chapter-29-baptism\",\n",
    "    \"chapter-30-the-lords-supper\",\n",
    "    \"chapter-31-state-humanity-after-death-resurrection-of-dead\",\n",
    "    \"chapter-32-the-last-judgment\",\n",
    "]"
   ]
  },
  {
   "cell_type": "code",
   "execution_count": null,
   "metadata": {},
   "outputs": [],
   "source": [
    "confession = pd.concat([get_chapter(i+1,name) for i,name in enumerate(chapterNames)])"
   ]
  },
  {
   "cell_type": "code",
   "execution_count": null,
   "metadata": {},
   "outputs": [],
   "source": [
    "confession.to_pickle('../data/1689_raw.pkl')"
   ]
  }
 ],
 "metadata": {
  "kernelspec": {
   "display_name": "venv",
   "language": "python",
   "name": "python3"
  },
  "language_info": {
   "codemirror_mode": {
    "name": "ipython",
    "version": 3
   },
   "file_extension": ".py",
   "mimetype": "text/x-python",
   "name": "python",
   "nbconvert_exporter": "python",
   "pygments_lexer": "ipython3",
   "version": "3.9.6"
  },
  "orig_nbformat": 4,
  "vscode": {
   "interpreter": {
    "hash": "95f380b9e2c92a6964d1383707d3d6c101f4db7cc7fa04e6d96977e12139b588"
   }
  }
 },
 "nbformat": 4,
 "nbformat_minor": 2
}

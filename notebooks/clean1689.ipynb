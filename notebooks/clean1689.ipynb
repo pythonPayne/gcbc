{
 "cells": [
  {
   "cell_type": "code",
   "execution_count": 22,
   "metadata": {},
   "outputs": [],
   "source": [
    "import pandas as pd\n",
    "import numpy as np\n",
    "import uuid\n",
    "import random"
   ]
  },
  {
   "cell_type": "code",
   "execution_count": 2,
   "metadata": {},
   "outputs": [],
   "source": [
    "df = pd.read_pickle('../data/1689_raw.pkl')"
   ]
  },
  {
   "cell_type": "markdown",
   "metadata": {},
   "source": [
    "### Fix on Google Drive"
   ]
  },
  {
   "cell_type": "code",
   "execution_count": 4,
   "metadata": {},
   "outputs": [],
   "source": [
    "df.to_excel('../data/temp_1689_for_google_drive.xlsx')"
   ]
  },
  {
   "attachments": {},
   "cell_type": "markdown",
   "metadata": {},
   "source": [
    "### Get File back from Google Drive"
   ]
  },
  {
   "cell_type": "code",
   "execution_count": 69,
   "metadata": {},
   "outputs": [],
   "source": [
    "df = pd.read_excel('../data/temp_1689_for_google_drive_fixed.xlsx')\n",
    "df['reference'] = df.reference.fillna(99).astype(int)\n",
    "df['line'] = df.line.apply(lambda x: x.replace('Psalm ', 'Psalms ') if 'Psalm ' in x else x)\n",
    "df['line'] = df.line.apply(lambda x: x.replace('Psalms ', 'Psalm ') if 'Psalms ' in x else x)\n",
    "df = df.sort_values(by=['scripture', 'chapter', 'paragraph', 'reference']).drop(columns=['id']).rename(columns={'reference':'referenceNum'})\n",
    "text = df[df.scripture==0].drop(columns=['scripture',]).rename(columns={'line':'paragraphText'})\n",
    "refs = df[df.scripture==1].drop(columns=['scripture',]).rename(columns={'line':'paragraphRef'})\n",
    "\n",
    "s = text.merge(refs, how='left', on=['chapter', 'paragraph', 'referenceNum'])\n",
    "s['paragraphRef'] = s.paragraphRef.fillna(\"\")\n",
    "s['refArray'] = s.paragraphRef.apply(lambda x: [ref.strip() for ref in x.split(';') ])\n",
    "s = s.drop(columns=['paragraphRef'])\n",
    "s = s.rename(columns={'refArray':'paragraphRef'})\n",
    "s = s.reset_index(drop=True)\n",
    "s['_id'] = [str(uuid.uuid1(random.randint(0,100000))) for i in range(s.shape[0])]\n",
    "s['_type'] = 'confession'\n",
    "s = s[['_id', '_type', 'chapter', 'paragraph', 'referenceNum', 'paragraphText', 'paragraphRef',]]"
   ]
  },
  {
   "attachments": {},
   "cell_type": "markdown",
   "metadata": {},
   "source": [
    "### Prep for Sanity schema"
   ]
  },
  {
   "cell_type": "code",
   "execution_count": 70,
   "metadata": {},
   "outputs": [],
   "source": [
    "s.to_json(\"../cms/confession.ndjson\",\n",
    "           orient=\"records\",\n",
    "           force_ascii=False,\n",
    "           lines=True)"
   ]
  },
  {
   "cell_type": "markdown",
   "metadata": {},
   "source": []
  }
 ],
 "metadata": {
  "kernelspec": {
   "display_name": "venv",
   "language": "python",
   "name": "python3"
  },
  "language_info": {
   "codemirror_mode": {
    "name": "ipython",
    "version": 3
   },
   "file_extension": ".py",
   "mimetype": "text/x-python",
   "name": "python",
   "nbconvert_exporter": "python",
   "pygments_lexer": "ipython3",
   "version": "3.9.6"
  },
  "orig_nbformat": 4,
  "vscode": {
   "interpreter": {
    "hash": "95f380b9e2c92a6964d1383707d3d6c101f4db7cc7fa04e6d96977e12139b588"
   }
  }
 },
 "nbformat": 4,
 "nbformat_minor": 2
}

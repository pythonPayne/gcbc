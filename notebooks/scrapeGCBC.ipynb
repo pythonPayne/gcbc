{
 "cells": [
  {
   "cell_type": "markdown",
   "metadata": {},
   "source": [
    "### Libraries"
   ]
  },
  {
   "cell_type": "code",
   "execution_count": 2,
   "metadata": {},
   "outputs": [],
   "source": [
    "import pandas as pd\n",
    "import requests\n",
    "from bs4 import BeautifulSoup"
   ]
  },
  {
   "cell_type": "markdown",
   "metadata": {},
   "source": [
    "### Functions"
   ]
  },
  {
   "cell_type": "code",
   "execution_count": 3,
   "metadata": {},
   "outputs": [],
   "source": [
    "def get_media(link):    \n",
    "    url = f\"https://www.gracecovenantbaptist.org/{link['link']}\"\n",
    "    response = requests.get(url)\n",
    "    soup = BeautifulSoup(response.text)\n",
    "    ps = soup.find_all(\"div\", {\"class\": \"entry-content\"})[0].find_all(\"p\")\n",
    "    dates = ps[0].text.splitlines()\n",
    "    speakers = ps[1].text.splitlines()\n",
    "    sermons = ps[2].text.splitlines()    \n",
    "    brs = str(ps[2]).split('<br/>')\n",
    "    links = []\n",
    "    handouts = []\n",
    "    for br in brs:\n",
    "\n",
    "        try:\n",
    "            temp = BeautifulSoup(br).find_all('a')[0]['href']            \n",
    "            if temp[-3:] == 'mp3':\n",
    "                links.append(temp)\n",
    "            else:\n",
    "                handouts.append(temp)            \n",
    "                links.append('')\n",
    "        except:\n",
    "            links.append('')\n",
    "            handouts.append('')\n",
    "        try:\n",
    "            temp = BeautifulSoup(br).find_all('a')[1]['href']            \n",
    "            handouts.append(temp)            \n",
    "        except:\n",
    "            handouts.append('')\n",
    "\n",
    "\n",
    "    df = pd.DataFrame(list(zip(dates, speakers, sermons, links, handouts)), columns=['date', 'speaker', 'title', 'audioLink', 'handoutLink'])\n",
    "    df['testament'] = link['testament']\n",
    "    df['book'] = link['book']\n",
    "    df['date_str'] = df.date.apply(lambda x: x[-4:]+\"-\"+x[:2]+\"-\"+x[3:5])\n",
    "    df['year'] = df.date.apply(lambda x: x[-4:])\n",
    "    return df"
   ]
  },
  {
   "cell_type": "code",
   "execution_count": 4,
   "metadata": {},
   "outputs": [],
   "source": [
    "def get_ss(link):\n",
    "    if link['format'] == 'old':\n",
    "        url = f\"https://www.gracecovenantbaptist.org/{link['link']}\"\n",
    "        response = requests.get(url)\n",
    "        soup = BeautifulSoup(response.text)\n",
    "        lessons = []\n",
    "        ps = soup.find_all(\"div\", {\"class\": \"entry-content\"})[0].find_all(\"p\")\n",
    "        for i,p in enumerate(ps):        \n",
    "            if len(str(p))>10:\n",
    "                date = [x for x in str(p).split('<a')[0].replace('\\xa0','').split('<p>')[1].strip().split('  ') if x != ''][0]\n",
    "                speaker = [x for x in str(p).split('<a')[0].replace('\\xa0','').split('<p>')[1].strip().split('  ') if x != ''][1]\n",
    "                try:\n",
    "                    link2 = str(p).split('<a')[1].split('href=\"')[1].split('\"')[0]\n",
    "                    title = str(p).split('<a')[1].split('\">')[1].split('</p>')[0].replace('</a>',' ').replace('\\xa0','')\n",
    "                except:\n",
    "                    link2 = ''\n",
    "                    title = [x for x in str(p).split('<a')[0].replace('\\xa0','').split('<p>')[1].strip().split('  ') if x != ''][2].split('</p')[0]\n",
    "                \n",
    "                lesson = {'date': date, 'speaker': speaker, 'title': title, 'audioLink': link2, 'book': link['book'], 'testament': link['testament']}\n",
    "                lessons.append(lesson)\n",
    "        df = pd.DataFrame(lessons)      \n",
    "        df['date_str'] = df.date.apply(lambda x: x[-4:]+\"-\"+x[:2]+\"-\"+x[3:5])\n",
    "        df['year'] = df.date.apply(lambda x: x[-4:])\n",
    "        return df\n",
    "    else:\n",
    "        return get_media(link)    "
   ]
  },
  {
   "cell_type": "markdown",
   "metadata": {},
   "source": [
    "### Sermons"
   ]
  },
  {
   "cell_type": "code",
   "execution_count": 5,
   "metadata": {},
   "outputs": [],
   "source": [
    "sermon_links = [\n",
    "    {'testament': 'NT', 'book': 'John', 'link':'2013/06/22/sermons-in-the-gospel-of-john/'},\n",
    "    {'testament': 'NT', 'book': 'Mark', 'link':'2013/06/22/sermons-in-mark/'},\n",
    "    {'testament': 'NT', 'book': '1 Corinthians', 'link':'2013/06/22/sermons-in-1-corinthians/'},\n",
    "    {'testament': 'NT', 'book': 'Galatians', 'link':'2013/06/22/sermons-in-galatians/'},\n",
    "    {'testament': 'NT', 'book': 'Ephesians', 'link':'2016/10/03/ephesians/'},\n",
    "    {'testament': 'NT', 'book': 'Philippians', 'link':'2022/06/06/sermons-in-philippians/'},\n",
    "    {'testament': 'NT', 'book': 'Philemon', 'link':'2018/04/16/sermons-on-philemon/'},\n",
    "    {'testament': 'NT', 'book': 'Hebrews', 'link':'2018/07/31/sermons-in-hebrews/'},\n",
    "    {'testament': 'NT', 'book': '1 Peter', 'link':'2013/06/22/sermons-in-1-peter/'},\n",
    "    {'testament': 'NT', 'book': '2 Peter and Jude', 'link':'2016/01/12/2-peterjude/'},\n",
    "    {'testament': 'NT', 'book': '1-3 John', 'link':'2013/06/22/sermons-in-the-epistles-of-john/'},\n",
    "    {'testament': 'NT', 'book': 'Revelation', 'link':'2013/06/22/sermons-in-revelation/'},\n",
    "    {'testament': 'OT', 'book': 'Ruth', 'link':'2013/06/22/sermon-ruth/'},\n",
    "    {'testament': 'OT', 'book': 'Esther', 'link':'2013/06/22/sermons-on-esther/'},\n",
    "    {'testament': 'OT', 'book': 'Psalms', 'link':'2013/06/22/164/'},\n",
    "    {'testament': 'OT', 'book': 'Ecclesiastes', 'link':'2015/08/11/ecclesiastes/'},\n",
    "    {'testament': 'OT', 'book': 'Jonah', 'link':'2013/06/22/sermons-in-jonah/'},\n",
    "    {'testament': 'OT', 'book': 'Habakkuk', 'link':'2013/06/22/sermons-in-habakkuk/'}, \n",
    "]"
   ]
  },
  {
   "cell_type": "code",
   "execution_count": 6,
   "metadata": {},
   "outputs": [],
   "source": [
    "# takes about 20 seconds\n",
    "df1 = pd.concat([get_media(link) for link in sermon_links]).reset_index(drop=True)"
   ]
  },
  {
   "cell_type": "code",
   "execution_count": 7,
   "metadata": {},
   "outputs": [],
   "source": [
    "df1 = df1.sort_values('date_str')\n",
    "df1['category'] = 'sermon'"
   ]
  },
  {
   "cell_type": "markdown",
   "metadata": {},
   "source": [
    "### Luke (diff format)"
   ]
  },
  {
   "cell_type": "code",
   "execution_count": 8,
   "metadata": {},
   "outputs": [],
   "source": [
    "url = 'https://www.gracecovenantbaptist.org/2020/09/14/sermons-in-luke-2/'\n",
    "response = requests.get(url)\n",
    "soup = BeautifulSoup(response.text)"
   ]
  },
  {
   "cell_type": "code",
   "execution_count": 9,
   "metadata": {},
   "outputs": [],
   "source": [
    "date_divs = soup.find_all(\"div\", {\"class\": \"entry-content\"})[0].find_all('div', attrs={'style': 'width: 15%; padding: 0 10px 0 0; float: left;'})\n",
    "dates = []\n",
    "for div in date_divs:\n",
    "    dates.extend(div.text.splitlines())\n",
    "dates = [x for x in dates if len(x)==10]\n",
    "\n",
    "speaker_divs = soup.find_all(\"div\", {\"class\": \"entry-content\"})[0].find_all('div', attrs={'style': 'width: 19%; padding: 0 10px 0 0; float: left;'})\n",
    "speakers = []\n",
    "for div in speaker_divs:\n",
    "    speakers.extend(div.text.splitlines())\n",
    "speakers = [x for x in speakers if x not in ['Speaker','']]\n",
    "speakers = speakers[:-1]\n",
    "\n",
    "title_divs = soup.find_all(\"div\", {\"class\": \"entry-content\"})[0].find_all('div', attrs={'style': 'width: 66%; padding: 0 10px 0 0; float: right;'})\n",
    "links_ = []\n",
    "for div in title_divs:\n",
    "    links_.extend(div.find_all('a'))\n",
    "links_temp = []\n",
    "for link in links_:\n",
    "    try:\n",
    "        links_temp.append(link['href'])\n",
    "    except:\n",
    "        links_temp.append('')\n",
    "links = links_temp[:-1] + ['', '', ''] + links_temp[-1:]        \n",
    "\n",
    "titles = []\n",
    "for div in title_divs:\n",
    "    titles.extend(div.text.splitlines())\n",
    "titles = [x for x in titles if len(x)>10]"
   ]
  },
  {
   "cell_type": "code",
   "execution_count": 10,
   "metadata": {},
   "outputs": [],
   "source": [
    "luk = pd.DataFrame(list(zip(dates, speakers, titles, links)), columns=['date', 'speaker', 'title', 'audioLink',])\n",
    "luk['testament'] = 'NT'\n",
    "luk['book'] = 'Luke'\n",
    "luk['date_str'] = luk.date.apply(lambda x: x[-4:]+\"-\"+x[:2]+\"-\"+x[3:5])\n",
    "luk['year'] = luk.date.apply(lambda x: x[-4:])\n",
    "luk['category'] = 'sermon'\n",
    "luk['handoutLink'] = ''\n",
    "luk = luk.sort_values('date_str').reset_index(drop=True)"
   ]
  },
  {
   "cell_type": "code",
   "execution_count": 11,
   "metadata": {},
   "outputs": [],
   "source": [
    "sermon_df = pd.concat([df1, luk])"
   ]
  },
  {
   "cell_type": "code",
   "execution_count": 12,
   "metadata": {},
   "outputs": [],
   "source": [
    "sermon_df = sermon_df.sort_values('date_str').reset_index(drop=True)"
   ]
  },
  {
   "cell_type": "markdown",
   "metadata": {},
   "source": [
    "### Sunday School"
   ]
  },
  {
   "cell_type": "code",
   "execution_count": 13,
   "metadata": {},
   "outputs": [],
   "source": [
    "ss_links = [\n",
    "    {'format':'old', 'testament': 'OT', 'book': 'Genesis', 'link':'2013/07/19/genesis/'},\n",
    "    {'format':'old', 'testament': 'OT', 'book': 'Exodus', 'link':'2013/07/19/exodus/'},\n",
    "    {'format':'old', 'testament': 'OT', 'book': 'Leviticus and Numbers', 'link':'2013/07/19/leviticusnumbers/'},    \n",
    "    {'format':'old', 'testament': 'OT', 'book': 'Deuteronomy', 'link':'2013/07/19/deuteronomy/'},    \n",
    "    {'format':'old', 'testament': 'OT', 'book': 'Joshua', 'link':'2013/07/19/joshua/'},\n",
    "    {'format':'old', 'testament': 'OT', 'book': 'Judges', 'link':'2013/07/19/judges/'},\n",
    "    {'format':'old', 'testament': 'OT', 'book': 'Ruth', 'link':'2013/07/19/ruth/'},\n",
    "    {'format':'old', 'testament': 'OT', 'book': '1 Samuel', 'link':'2013/07/19/1-samuel/'},\n",
    "    {'format':'old', 'testament': 'OT', 'book': '2 Samuel', 'link':'2013/07/19/2-samuel/'},\n",
    "    {'format':'new', 'testament': 'OT', 'book': '1 Kings', 'link':'2013/07/19/1-kings/'},\n",
    "    {'format':'new', 'testament': 'OT', 'book': '2 Kings', 'link':'2013/07/19/2-kings/'},    \n",
    "    {'format':'old', 'testament': 'OT', 'book': 'Ezra and Nehemiah and Esther', 'link':'2013/07/19/lessons-in-ezranehemiahesther/'},    \n",
    "    {'format':'new', 'testament': 'OT', 'book': 'Isaiah', 'link':'2014/09/16/isaiah/'},    \n",
    "    {'format':'new', 'testament': 'OT', 'book': 'Jeremiah', 'link':'2016/05/06/studies-in-jeremiah/'},\n",
    "    {'format':'old', 'testament': 'OT', 'book': 'Daniel', 'link':'2013/07/19/daniel/'},\n",
    "    {'format':'new', 'testament': 'OT', 'book': 'Minor Prophets', 'link':'2013/07/19/minor-prophets/'},\n",
    "\n",
    "    {'format':'new', 'testament': 'NT', 'book': 'Matthew', 'link':'2014/01/06/the-sermon-on-the-mount/'},\n",
    "    {'format':'new', 'testament': 'NT', 'book': 'Incarnation Studies', 'link':'2013/07/19/studies-on-the-incarnation/'},\n",
    "    {'format':'new', 'testament': 'NT', 'book': 'The One Anothers', 'link':'2013/07/19/one-anothers-in-the-new-testament/'},    \n",
    "    {'format':'new', 'testament': 'NT', 'book': 'Peter the Apostle', 'link':'2014/08/19/peter-the-apostle/'},\n",
    "    {'format':'new', 'testament': 'NT', 'book': 'Acts', 'link':'2013/07/19/acts/'},\n",
    "    {'format':'new', 'testament': 'NT', 'book': 'Philippians', 'link':'2014/06/02/philippians/'},\n",
    "    {'format':'new', 'testament': 'NT', 'book': 'Hebrews', 'link':'2013/07/19/hebrews/'},\n",
    "    {'format':'new', 'testament': 'NT', 'book': '2 Timothy', 'link':'2017/06/13/2-timothy/'},\n",
    "    {'format':'new', 'testament': 'NT', 'book': 'Single Chapter Books', 'link':'2013/07/19/philemon-23-john-jude/'},\n",
    "\n",
    "    {'format':'new', 'testament': '', 'book': 'Gods Glory in Gods Word', 'link':'2019/11/16/gods-glory-in-gods-word/'},\n",
    "    {'format':'new', 'testament': '', 'book': 'How to Study the Bible', 'link':'2019/05/22/how-to-study-your-bible/'},\n",
    "    {'format':'new', 'testament': 'OT', 'book': 'Genesis', 'link':'2017/08/03/biblical-christian-worldview/'},\n",
    "    {'format':'new', 'testament': '', 'book': 'Doctrinal Distinctives: Baptist and Reformed', 'link':'2018/06/17/doctrinal-distinctives-baptist-reformed-2/'},\n",
    "    {'format':'new', 'testament': '', 'book': 'Getting the Most out of the Word Taught', 'link':'2017/03/24/how-to-listen-to-a-sermon/'},\n",
    "    \n",
    "]\n"
   ]
  },
  {
   "cell_type": "code",
   "execution_count": 14,
   "metadata": {},
   "outputs": [],
   "source": [
    "# takes about 30 seconds\n",
    "sunday_school = pd.concat([get_ss(link) for link in ss_links]).reset_index(drop=True)"
   ]
  },
  {
   "cell_type": "code",
   "execution_count": 15,
   "metadata": {},
   "outputs": [],
   "source": [
    "sunday_school = sunday_school.sort_values('date_str')\n",
    "sunday_school['category'] = 'sunday school'\n"
   ]
  },
  {
   "cell_type": "markdown",
   "metadata": {},
   "source": [
    "### Other Sermons (Topical)"
   ]
  },
  {
   "cell_type": "code",
   "execution_count": 16,
   "metadata": {},
   "outputs": [],
   "source": [
    "topical_links = [\n",
    "    {'format':'new', 'testament': '', 'book': 'The Doctrines of Grace', 'link':'2013/07/19/the-doctrines-of-grace/'},    \n",
    "    {'format':'new', 'testament': '', 'book': 'The Seven Sayings of Christ on the Cross', 'link':'2015/01/20/the-seven-sayings-of-christ-on-the-cross/'},\n",
    "    {'format':'new', 'testament': '', 'book': 'Sermons on the Kingdom of God', 'link':'2014/06/02/sermons-on-the-kingdom-of-god/'},\n",
    "    {'format':'new', 'testament': '', 'book': 'Sermons on Biblical Manhood and Womanhood', 'link':'2014/05/20/sermons-on-biblical-manhood-womanhood/'},\n",
    "    {'format':'new', 'testament': '', 'book': 'Church and Doctrinal Issues', 'link':'2013/06/24/church-and-doctrinal-issues/'},        \n",
    "    {'format':'new', 'testament': '', 'book': 'Sermons on the Glory of God', 'link':'2013/06/24/gods-passion-for-his-own-glory/'},\n",
    "    {'format':'new', 'testament': '', 'book': 'Sermons on Atonement', 'link':'2013/10/02/sermons-on-atonement/'},\n",
    "    {'format':'new', 'testament': '', 'book': 'Spiritual Disciplines of the Christian Life', 'link':'2013/06/24/disciplines-for-the-christian-life/'},\n",
    "    {'format':'new', 'testament': '', 'book': 'Stewardship', 'link':'2013/07/19/sermons-on-stewardship/'},\n",
    "    {'format':'new', 'testament': '', 'book': \"The Apostles' Creed\", 'link':'2013/07/19/the-apostles-creed/'},\n",
    "    {'format':'new', 'testament': '', 'book': \"The Doctrine of Adoption\", 'link':'2013/07/19/sermons-on-adoption-in-christ/'},\n",
    "    {'format':'new', 'testament': '', 'book': \"Sermons on the Church\", 'link':'2013/07/19/sermons-on-the-church/'},\n",
    "    {'format':'new', 'testament': '', 'book': \"Sermons on the Sermon on The Mount\", 'link':'2013/07/19/sermons-on-the-sermon-on-the-mount-2/'},\n",
    "    \n",
    "]\n",
    "## diff format\n",
    "## 2010 summer sermon series"
   ]
  },
  {
   "cell_type": "code",
   "execution_count": 17,
   "metadata": {},
   "outputs": [],
   "source": [
    "# takes about 12 seconds\n",
    "topical = pd.concat([get_ss(link) for link in topical_links]).reset_index(drop=True)"
   ]
  },
  {
   "cell_type": "code",
   "execution_count": 18,
   "metadata": {},
   "outputs": [],
   "source": [
    "topical = topical.sort_values('date_str')\n",
    "topical['category'] = 'sermon'"
   ]
  },
  {
   "cell_type": "markdown",
   "metadata": {},
   "source": [
    "### Combine Into One File"
   ]
  },
  {
   "cell_type": "code",
   "execution_count": 19,
   "metadata": {},
   "outputs": [],
   "source": [
    "df = pd.concat([sermon_df, sunday_school, topical]).reset_index(drop=True)"
   ]
  },
  {
   "cell_type": "code",
   "execution_count": 20,
   "metadata": {},
   "outputs": [],
   "source": [
    "def fix_link(x):    \n",
    "    try:    \n",
    "        link = left = 'https://www.gracecovenantbaptist.org' + x.split('.org')[1]\n",
    "    except:\n",
    "        link = ''\n",
    "    return link\n",
    "df['audioLink'] = df.audioLink.apply(lambda x: fix_link(x))"
   ]
  },
  {
   "cell_type": "code",
   "execution_count": 21,
   "metadata": {},
   "outputs": [],
   "source": [
    "df.to_pickle(\"../data/teaching.pkl\")"
   ]
  },
  {
   "cell_type": "markdown",
   "metadata": {},
   "source": [
    "### Get mp3 Files"
   ]
  },
  {
   "cell_type": "code",
   "execution_count": 22,
   "metadata": {},
   "outputs": [],
   "source": [
    "# took about an hour (1320 links)\n",
    "audioLinks = [x for x in list(df['audioLink']) if x != '']\n",
    "for i,audioLink in enumerate(audioLinks):    \n",
    "    fileName = audioLink.split('.org/')[-1].replace('/','___')\n",
    "    mp3 = requests.get(audioLink)\n",
    "    with open(f'../mp3s/{fileName}', 'wb') as f:\n",
    "        f.write(mp3.content)"
   ]
  }
 ],
 "metadata": {
  "kernelspec": {
   "display_name": "Python 3.9.6 ('venv': venv)",
   "language": "python",
   "name": "python3"
  },
  "language_info": {
   "codemirror_mode": {
    "name": "ipython",
    "version": 3
   },
   "file_extension": ".py",
   "mimetype": "text/x-python",
   "name": "python",
   "nbconvert_exporter": "python",
   "pygments_lexer": "ipython3",
   "version": "3.9.6 (default, Sep 26 2022, 11:37:49) \n[Clang 14.0.0 (clang-1400.0.29.202)]"
  },
  "orig_nbformat": 4,
  "vscode": {
   "interpreter": {
    "hash": "95f380b9e2c92a6964d1383707d3d6c101f4db7cc7fa04e6d96977e12139b588"
   }
  }
 },
 "nbformat": 4,
 "nbformat_minor": 2
}

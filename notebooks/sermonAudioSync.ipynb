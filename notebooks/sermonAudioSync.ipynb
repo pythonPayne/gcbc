{
 "cells": [
  {
   "cell_type": "code",
   "execution_count": 1,
   "metadata": {},
   "outputs": [],
   "source": [
    "import pandas as pd\n",
    "import requests\n",
    "import bs4\n",
    "from bs4 import BeautifulSoup\n",
    "import re\n",
    "import random\n",
    "import uuid"
   ]
  },
  {
   "cell_type": "code",
   "execution_count": 72,
   "metadata": {},
   "outputs": [],
   "source": [
    "def get_page(page):    \n",
    "    url = f\"https://www.sermonaudio.com/search.asp?currpage={page}&keyword=gracecovenantbaptist&SourceOnly=true&AudioOnly=false&sortby=\"\n",
    "    res = requests.get(url)\n",
    "    soup = BeautifulSoup(res.text)\n",
    "\n",
    "    n = page*25 + 1\n",
    "\n",
    "    rows = []\n",
    "    for sermonline in list(range(n-25,n)):\n",
    "        try:\n",
    "            row = {}\n",
    "            sermon = soup.find(\"table\", {\"onmouseover\": f\"document.getElementById('sermonline-{sermonline}').style.display='block';\"})\n",
    "            title = sermon.find(\"div\", {\"style\": \"margin-top:2px\"}).text.strip()\n",
    "            speaker = sermon.find(\"font\", {\"color\": \"427194\"}).text.strip()\n",
    "            try:\n",
    "                series = sermon.find(\"a\", {\"title\": \"Show Series\"}).text.strip()\n",
    "            except:\n",
    "                series = \"\"\n",
    "            passage = sermon.find(\"font\", {\"color\": \"878787\"}).text.strip()\n",
    "            day_date = sermon.find(\"font\", {\"color\": \"bb8800\"}).text.strip().replace(u'\\xa0',u' ')\n",
    "            day = day_date.split(' ')[0]\n",
    "            date = day_date.split(' ')[1]\n",
    "            x = sermon.find(\"font\", {\"color\": \"929AA1\"}).text.strip().replace(u'\\xa0',u' ')\n",
    "            tm = x.split('| ')[1]\n",
    "            \n",
    "            row = {\n",
    "                \"title\": title,\n",
    "                \"speaker\": speaker,\n",
    "                \"series\": series,\n",
    "                \"passage\": passage,\n",
    "                \"date\": date,\n",
    "                \"tm\": tm\n",
    "            }\n",
    "\n",
    "            rows.append(row)\n",
    "        except:\n",
    "            continue\n",
    "\n",
    "    df = pd.DataFrame(rows)\n",
    "\n",
    "    return df"
   ]
  },
  {
   "cell_type": "code",
   "execution_count": 73,
   "metadata": {},
   "outputs": [],
   "source": [
    "dfs = [get_page(i) for i in list(range(1,28))]"
   ]
  },
  {
   "cell_type": "code",
   "execution_count": 74,
   "metadata": {},
   "outputs": [
    {
     "data": {
      "text/html": [
       "<div>\n",
       "<style scoped>\n",
       "    .dataframe tbody tr th:only-of-type {\n",
       "        vertical-align: middle;\n",
       "    }\n",
       "\n",
       "    .dataframe tbody tr th {\n",
       "        vertical-align: top;\n",
       "    }\n",
       "\n",
       "    .dataframe thead th {\n",
       "        text-align: right;\n",
       "    }\n",
       "</style>\n",
       "<table border=\"1\" class=\"dataframe\">\n",
       "  <thead>\n",
       "    <tr style=\"text-align: right;\">\n",
       "      <th></th>\n",
       "      <th>title</th>\n",
       "      <th>speaker</th>\n",
       "      <th>series</th>\n",
       "      <th>passage</th>\n",
       "      <th>date</th>\n",
       "      <th>tm</th>\n",
       "    </tr>\n",
       "  </thead>\n",
       "  <tbody>\n",
       "    <tr>\n",
       "      <th>0</th>\n",
       "      <td>Delivered and Raised - Indeed! (Romans 4:25)</td>\n",
       "      <td>Todd Wilson</td>\n",
       "      <td></td>\n",
       "      <td>Romans 4:25</td>\n",
       "      <td>04/09/2023</td>\n",
       "      <td>47 min</td>\n",
       "    </tr>\n",
       "    <tr>\n",
       "      <th>1</th>\n",
       "      <td>The Passion of Christ (Luke 19:28-40)</td>\n",
       "      <td>Todd Wilson</td>\n",
       "      <td>The Gospel of Luke</td>\n",
       "      <td>Luke 19:28-40</td>\n",
       "      <td>04/02/2023</td>\n",
       "      <td>43 min</td>\n",
       "    </tr>\n",
       "    <tr>\n",
       "      <th>2</th>\n",
       "      <td>What Is the Kingdom of God? Like?</td>\n",
       "      <td>Todd Wilson</td>\n",
       "      <td>The Gospel of Luke</td>\n",
       "      <td>Luke 13:18-21</td>\n",
       "      <td>03/26/2023</td>\n",
       "      <td>53 min</td>\n",
       "    </tr>\n",
       "    <tr>\n",
       "      <th>3</th>\n",
       "      <td>The Lord of the Sabbath (3)</td>\n",
       "      <td>Todd Wilson</td>\n",
       "      <td>The Gospel of Luke</td>\n",
       "      <td>Luke 13:10-17</td>\n",
       "      <td>03/12/2023</td>\n",
       "      <td>48 min</td>\n",
       "    </tr>\n",
       "    <tr>\n",
       "      <th>4</th>\n",
       "      <td>Why &amp; How to Celebrate the Lord's Supper</td>\n",
       "      <td>Todd Wilson</td>\n",
       "      <td></td>\n",
       "      <td>1 Corinthians 11:23-34</td>\n",
       "      <td>03/06/2023</td>\n",
       "      <td>51 min</td>\n",
       "    </tr>\n",
       "    <tr>\n",
       "      <th>...</th>\n",
       "      <td>...</td>\n",
       "      <td>...</td>\n",
       "      <td>...</td>\n",
       "      <td>...</td>\n",
       "      <td>...</td>\n",
       "      <td>...</td>\n",
       "    </tr>\n",
       "    <tr>\n",
       "      <th>669</th>\n",
       "      <td>Consider Your Calling</td>\n",
       "      <td>Todd Wilson</td>\n",
       "      <td>1 Corinthians</td>\n",
       "      <td>1 Corinthians 1:26-31</td>\n",
       "      <td>09/04/2005</td>\n",
       "      <td>40 min</td>\n",
       "    </tr>\n",
       "    <tr>\n",
       "      <th>670</th>\n",
       "      <td>The Power and Wisdom of God</td>\n",
       "      <td>Todd Wilson</td>\n",
       "      <td>1 Corinthians</td>\n",
       "      <td>1 Corinthians 1:18-25</td>\n",
       "      <td>08/28/2005</td>\n",
       "      <td>44 min</td>\n",
       "    </tr>\n",
       "    <tr>\n",
       "      <th>671</th>\n",
       "      <td>The Centrality of Preaching</td>\n",
       "      <td>Todd Wilson</td>\n",
       "      <td>1 Corinthians</td>\n",
       "      <td>1 Corinthians 1:10-17</td>\n",
       "      <td>08/21/2005</td>\n",
       "      <td>51 min</td>\n",
       "    </tr>\n",
       "    <tr>\n",
       "      <th>672</th>\n",
       "      <td>Paul and Corinth</td>\n",
       "      <td>Todd Wilson</td>\n",
       "      <td>1 Corinthians</td>\n",
       "      <td>1 Corinthians 1:1-9</td>\n",
       "      <td>08/14/2005</td>\n",
       "      <td>50 min</td>\n",
       "    </tr>\n",
       "    <tr>\n",
       "      <th>673</th>\n",
       "      <td>Faithful Partakers</td>\n",
       "      <td>Todd Wilson</td>\n",
       "      <td>1 Corinthians</td>\n",
       "      <td>1 Corinthians 11:23-34</td>\n",
       "      <td>08/07/2005</td>\n",
       "      <td>41 min</td>\n",
       "    </tr>\n",
       "  </tbody>\n",
       "</table>\n",
       "<p>674 rows × 6 columns</p>\n",
       "</div>"
      ],
      "text/plain": [
       "                                            title      speaker  \\\n",
       "0    Delivered and Raised - Indeed! (Romans 4:25)  Todd Wilson   \n",
       "1           The Passion of Christ (Luke 19:28-40)  Todd Wilson   \n",
       "2               What Is the Kingdom of God? Like?  Todd Wilson   \n",
       "3                     The Lord of the Sabbath (3)  Todd Wilson   \n",
       "4        Why & How to Celebrate the Lord's Supper  Todd Wilson   \n",
       "..                                            ...          ...   \n",
       "669                         Consider Your Calling  Todd Wilson   \n",
       "670                   The Power and Wisdom of God  Todd Wilson   \n",
       "671                   The Centrality of Preaching  Todd Wilson   \n",
       "672                              Paul and Corinth  Todd Wilson   \n",
       "673                            Faithful Partakers  Todd Wilson   \n",
       "\n",
       "                 series                 passage        date      tm  \n",
       "0                                   Romans 4:25  04/09/2023  47 min  \n",
       "1    The Gospel of Luke           Luke 19:28-40  04/02/2023  43 min  \n",
       "2    The Gospel of Luke           Luke 13:18-21  03/26/2023  53 min  \n",
       "3    The Gospel of Luke           Luke 13:10-17  03/12/2023  48 min  \n",
       "4                        1 Corinthians 11:23-34  03/06/2023  51 min  \n",
       "..                  ...                     ...         ...     ...  \n",
       "669       1 Corinthians   1 Corinthians 1:26-31  09/04/2005  40 min  \n",
       "670       1 Corinthians   1 Corinthians 1:18-25  08/28/2005  44 min  \n",
       "671       1 Corinthians   1 Corinthians 1:10-17  08/21/2005  51 min  \n",
       "672       1 Corinthians     1 Corinthians 1:1-9  08/14/2005  50 min  \n",
       "673       1 Corinthians  1 Corinthians 11:23-34  08/07/2005  41 min  \n",
       "\n",
       "[674 rows x 6 columns]"
      ]
     },
     "execution_count": 74,
     "metadata": {},
     "output_type": "execute_result"
    }
   ],
   "source": [
    "df = pd.concat(dfs)\n",
    "df = df.reset_index(drop=True)\n",
    "df"
   ]
  },
  {
   "cell_type": "code",
   "execution_count": 87,
   "metadata": {},
   "outputs": [],
   "source": [
    "df['date_str'] = df.date.apply(lambda x: x[-4:]+'-'+x[0:2]+'-'+x[3:5])\n",
    "df = df.sort_values('date_str').reset_index(drop=True)"
   ]
  },
  {
   "cell_type": "code",
   "execution_count": 88,
   "metadata": {},
   "outputs": [],
   "source": [
    "def get_passage_text(x):\n",
    "    temp = x.split(' ')\n",
    "    text_try_1 = temp[-1]\n",
    "    return text_try_1"
   ]
  },
  {
   "cell_type": "code",
   "execution_count": 89,
   "metadata": {},
   "outputs": [],
   "source": [
    "df['passage_text'] = df.passage.apply(lambda x: get_passage_text(x))"
   ]
  },
  {
   "cell_type": "code",
   "execution_count": 86,
   "metadata": {},
   "outputs": [
    {
     "data": {
      "text/html": [
       "<div>\n",
       "<style scoped>\n",
       "    .dataframe tbody tr th:only-of-type {\n",
       "        vertical-align: middle;\n",
       "    }\n",
       "\n",
       "    .dataframe tbody tr th {\n",
       "        vertical-align: top;\n",
       "    }\n",
       "\n",
       "    .dataframe thead th {\n",
       "        text-align: right;\n",
       "    }\n",
       "</style>\n",
       "<table border=\"1\" class=\"dataframe\">\n",
       "  <thead>\n",
       "    <tr style=\"text-align: right;\">\n",
       "      <th></th>\n",
       "      <th>title</th>\n",
       "      <th>speaker</th>\n",
       "      <th>series</th>\n",
       "      <th>passage</th>\n",
       "      <th>date</th>\n",
       "      <th>tm</th>\n",
       "      <th>date_str</th>\n",
       "      <th>passage_text</th>\n",
       "    </tr>\n",
       "  </thead>\n",
       "  <tbody>\n",
       "    <tr>\n",
       "      <th>673</th>\n",
       "      <td>Faithful Partakers</td>\n",
       "      <td>Todd Wilson</td>\n",
       "      <td>1 Corinthians</td>\n",
       "      <td>1 Corinthians 11:23-34</td>\n",
       "      <td>08/07/2005</td>\n",
       "      <td>41 min</td>\n",
       "      <td>2005-08-07</td>\n",
       "      <td>11:23-34</td>\n",
       "    </tr>\n",
       "    <tr>\n",
       "      <th>672</th>\n",
       "      <td>Paul and Corinth</td>\n",
       "      <td>Todd Wilson</td>\n",
       "      <td>1 Corinthians</td>\n",
       "      <td>1 Corinthians 1:1-9</td>\n",
       "      <td>08/14/2005</td>\n",
       "      <td>50 min</td>\n",
       "      <td>2005-08-14</td>\n",
       "      <td>1:1-9</td>\n",
       "    </tr>\n",
       "    <tr>\n",
       "      <th>671</th>\n",
       "      <td>The Centrality of Preaching</td>\n",
       "      <td>Todd Wilson</td>\n",
       "      <td>1 Corinthians</td>\n",
       "      <td>1 Corinthians 1:10-17</td>\n",
       "      <td>08/21/2005</td>\n",
       "      <td>51 min</td>\n",
       "      <td>2005-08-21</td>\n",
       "      <td>1:10-17</td>\n",
       "    </tr>\n",
       "    <tr>\n",
       "      <th>670</th>\n",
       "      <td>The Power and Wisdom of God</td>\n",
       "      <td>Todd Wilson</td>\n",
       "      <td>1 Corinthians</td>\n",
       "      <td>1 Corinthians 1:18-25</td>\n",
       "      <td>08/28/2005</td>\n",
       "      <td>44 min</td>\n",
       "      <td>2005-08-28</td>\n",
       "      <td>1:18-25</td>\n",
       "    </tr>\n",
       "    <tr>\n",
       "      <th>669</th>\n",
       "      <td>Consider Your Calling</td>\n",
       "      <td>Todd Wilson</td>\n",
       "      <td>1 Corinthians</td>\n",
       "      <td>1 Corinthians 1:26-31</td>\n",
       "      <td>09/04/2005</td>\n",
       "      <td>40 min</td>\n",
       "      <td>2005-09-04</td>\n",
       "      <td>1:26-31</td>\n",
       "    </tr>\n",
       "  </tbody>\n",
       "</table>\n",
       "</div>"
      ],
      "text/plain": [
       "                           title      speaker         series  \\\n",
       "673           Faithful Partakers  Todd Wilson  1 Corinthians   \n",
       "672             Paul and Corinth  Todd Wilson  1 Corinthians   \n",
       "671  The Centrality of Preaching  Todd Wilson  1 Corinthians   \n",
       "670  The Power and Wisdom of God  Todd Wilson  1 Corinthians   \n",
       "669        Consider Your Calling  Todd Wilson  1 Corinthians   \n",
       "\n",
       "                    passage        date      tm    date_str passage_text  \n",
       "673  1 Corinthians 11:23-34  08/07/2005  41 min  2005-08-07     11:23-34  \n",
       "672     1 Corinthians 1:1-9  08/14/2005  50 min  2005-08-14        1:1-9  \n",
       "671   1 Corinthians 1:10-17  08/21/2005  51 min  2005-08-21      1:10-17  \n",
       "670   1 Corinthians 1:18-25  08/28/2005  44 min  2005-08-28      1:18-25  \n",
       "669   1 Corinthians 1:26-31  09/04/2005  40 min  2005-09-04      1:26-31  "
      ]
     },
     "execution_count": 86,
     "metadata": {},
     "output_type": "execute_result"
    }
   ],
   "source": [
    "df.head()"
   ]
  },
  {
   "cell_type": "code",
   "execution_count": null,
   "metadata": {},
   "outputs": [],
   "source": [
    "date, speaker, book, passage, series, title, audioLink"
   ]
  },
  {
   "cell_type": "code",
   "execution_count": 52,
   "metadata": {},
   "outputs": [
    {
     "data": {
      "text/plain": [
       "'Todd Wilson'"
      ]
     },
     "execution_count": 52,
     "metadata": {},
     "output_type": "execute_result"
    }
   ],
   "source": [
    "speaker = sermon.find(\"font\", {\"color\": \"427194\"}).text.strip()\n",
    "speaker"
   ]
  },
  {
   "cell_type": "code",
   "execution_count": 53,
   "metadata": {},
   "outputs": [
    {
     "ename": "AttributeError",
     "evalue": "'NoneType' object has no attribute 'text'",
     "output_type": "error",
     "traceback": [
      "\u001b[0;31m---------------------------------------------------------------------------\u001b[0m",
      "\u001b[0;31mAttributeError\u001b[0m                            Traceback (most recent call last)",
      "Cell \u001b[0;32mIn[53], line 1\u001b[0m\n\u001b[0;32m----> 1\u001b[0m series \u001b[39m=\u001b[39m sermon\u001b[39m.\u001b[39;49mfind(\u001b[39m\"\u001b[39;49m\u001b[39ma\u001b[39;49m\u001b[39m\"\u001b[39;49m, {\u001b[39m\"\u001b[39;49m\u001b[39mtitle\u001b[39;49m\u001b[39m\"\u001b[39;49m: \u001b[39m\"\u001b[39;49m\u001b[39mShow Series\u001b[39;49m\u001b[39m\"\u001b[39;49m})\u001b[39m.\u001b[39;49mtext\u001b[39m.\u001b[39mstrip()\n\u001b[1;32m      2\u001b[0m series\n",
      "\u001b[0;31mAttributeError\u001b[0m: 'NoneType' object has no attribute 'text'"
     ]
    }
   ],
   "source": [
    "series = sermon.find(\"a\", {\"title\": \"Show Series\"}).text.strip()\n",
    "series"
   ]
  },
  {
   "cell_type": "code",
   "execution_count": 46,
   "metadata": {},
   "outputs": [
    {
     "data": {
      "text/plain": [
       "'Luke 19:28-40'"
      ]
     },
     "execution_count": 46,
     "metadata": {},
     "output_type": "execute_result"
    }
   ],
   "source": [
    "passage = sermon.find(\"font\", {\"color\": \"878787\"}).text.strip()\n",
    "passage"
   ]
  },
  {
   "cell_type": "code",
   "execution_count": 47,
   "metadata": {},
   "outputs": [
    {
     "name": "stdout",
     "output_type": "stream",
     "text": [
      "day:  SUN\n",
      "date:  04/02/2023\n"
     ]
    }
   ],
   "source": [
    "\n",
    "print(\"day: \", day)\n",
    "print(\"date: \", date)"
   ]
  },
  {
   "cell_type": "code",
   "execution_count": 48,
   "metadata": {},
   "outputs": [
    {
     "data": {
      "text/plain": [
       "'43 min'"
      ]
     },
     "execution_count": 48,
     "metadata": {},
     "output_type": "execute_result"
    }
   ],
   "source": []
  },
  {
   "cell_type": "code",
   "execution_count": null,
   "metadata": {},
   "outputs": [],
   "source": []
  }
 ],
 "metadata": {
  "kernelspec": {
   "display_name": "venv",
   "language": "python",
   "name": "python3"
  },
  "language_info": {
   "codemirror_mode": {
    "name": "ipython",
    "version": 3
   },
   "file_extension": ".py",
   "mimetype": "text/x-python",
   "name": "python",
   "nbconvert_exporter": "python",
   "pygments_lexer": "ipython3",
   "version": "3.9.6"
  },
  "orig_nbformat": 4,
  "vscode": {
   "interpreter": {
    "hash": "95f380b9e2c92a6964d1383707d3d6c101f4db7cc7fa04e6d96977e12139b588"
   }
  }
 },
 "nbformat": 4,
 "nbformat_minor": 2
}
